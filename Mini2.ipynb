{
  "nbformat": 4,
  "nbformat_minor": 0,
  "metadata": {
    "colab": {
      "provenance": [],
      "authorship_tag": "ABX9TyP8MMqwMDHHzrgyk4x5X1QD"
    },
    "kernelspec": {
      "name": "python3",
      "display_name": "Python 3"
    },
    "language_info": {
      "name": "python"
    }
  },
  "cells": [
    {
      "cell_type": "markdown",
      "source": [
        "## Packages & Spark Session"
      ],
      "metadata": {
        "id": "ZEArJBTjklhC"
      }
    },
    {
      "cell_type": "code",
      "execution_count": 1,
      "metadata": {
        "id": "wYZ8RKgovU80"
      },
      "outputs": [],
      "source": [
        "#!pip install pyspark"
      ]
    },
    {
      "cell_type": "code",
      "source": [
        "# Import the necessary pyspark modules and spark context\n",
        "from pyspark.sql import SparkSession\n",
        "from pyspark.conf import SparkConf\n",
        "from pyspark.sql.types import *\n",
        "from pyspark import SparkContext\n",
        "import pyspark.sql.functions as F\n",
        "from pyspark.sql.functions import col, asc,desc\n",
        "import matplotlib.pyplot as plt\n",
        "import numpy as np\n",
        "import seaborn as sns\n",
        "from pyspark.sql import SQLContext\n",
        "from pyspark.mllib.stat import Statistics\n",
        "import pandas as pd\n",
        "from pyspark.sql.functions import udf\n",
        "from pyspark.ml.feature import OneHotEncoder, StringIndexer, VectorAssembler,StandardScaler\n",
        "from pyspark.ml import Pipeline\n",
        "from sklearn.metrics import confusion_matrix\n",
        "\n",
        "from pyspark.sql import SparkSession\n",
        "from pyspark.conf import SparkConf\n",
        "from pyspark.sql.types import *\n",
        "import pyspark.sql.functions as F\n",
        "from pyspark.sql.functions import col, asc,desc\n",
        "import matplotlib.pyplot as plt\n",
        "import numpy as np\n",
        "import seaborn as sns\n",
        "from pyspark.sql import SQLContext\n",
        "from pyspark.mllib.stat import Statistics\n",
        "import pandas as pd\n",
        "from pyspark.sql.functions import udf\n",
        "from pyspark.ml.feature import OneHotEncoder, StringIndexer, VectorAssembler,StandardScaler\n",
        "from pyspark.ml import Pipeline\n",
        "from sklearn.metrics import confusion_matrix\n",
        "from pyspark.sql import functions as F\n",
        "from pyspark.sql.functions import isnan, when, count, col\n",
        "\n",
        "from pyspark.ml.classification import DecisionTreeClassifier\n",
        "from pyspark.ml.classification import LinearSVC\n",
        "from pyspark.ml.classification import GBTClassifier\n",
        "from pyspark.ml.classification import RandomForestClassifier\n",
        "from pyspark.ml.classification import LogisticRegression\n",
        "from pyspark.ml.evaluation import BinaryClassificationEvaluator\n",
        "\n",
        "from pyspark.ml.tuning import ParamGridBuilder, CrossValidator\n",
        "from pyspark.ml.evaluation import BinaryClassificationEvaluator\n",
        "from pyspark.ml import Pipeline\n",
        "from pyspark.ml.classification import RandomForestClassifier\n",
        "from pyspark.ml.clustering import KMeans\n",
        "\n",
        "myconf = SparkConf()\n",
        "myconf.setMaster('local')\n",
        "myconf.setAppName('week2_exercise')\n",
        "sc = SparkContext(conf=myconf)\n",
        "\n",
        "sqlContext=SQLContext(sc)\n",
        "spark=SparkSession.builder.master (\"local[*]\").appName(\"part3\").getOrCreate()"
      ],
      "metadata": {
        "colab": {
          "base_uri": "https://localhost:8080/"
        },
        "id": "hbYV2JXEv8sQ",
        "outputId": "34108ff7-456e-47a6-909c-b59fe7b4f880"
      },
      "execution_count": 2,
      "outputs": [
        {
          "output_type": "stream",
          "name": "stderr",
          "text": [
            "/usr/local/lib/python3.10/dist-packages/pyspark/sql/context.py:113: FutureWarning: Deprecated in 3.0.0. Use SparkSession.builder.getOrCreate() instead.\n",
            "  warnings.warn(\n"
          ]
        }
      ]
    },
    {
      "cell_type": "markdown",
      "source": [
        "## Read Data"
      ],
      "metadata": {
        "id": "BF-kxShCkeH9"
      }
    },
    {
      "cell_type": "code",
      "source": [
        "df = spark.read.option(\"header\",\"True\").option(\"inferSchema\",\"True\").option(\"sep\",\";\").csv(\"/content/XYZ_Bank_Deposit_Data_Classification.csv\")"
      ],
      "metadata": {
        "id": "lKrhOhEQxLUv"
      },
      "execution_count": 3,
      "outputs": []
    },
    {
      "cell_type": "markdown",
      "source": [
        "## Data Wrangling"
      ],
      "metadata": {
        "id": "4-UOVndUkbAZ"
      }
    },
    {
      "cell_type": "code",
      "source": [
        "df.printSchema()"
      ],
      "metadata": {
        "colab": {
          "base_uri": "https://localhost:8080/"
        },
        "id": "uXnUtRt1xdu8",
        "outputId": "607b9188-bb66-402f-aa97-220294ac8a98"
      },
      "execution_count": 4,
      "outputs": [
        {
          "output_type": "stream",
          "name": "stdout",
          "text": [
            "root\n",
            " |-- age: integer (nullable = true)\n",
            " |-- job: string (nullable = true)\n",
            " |-- marital: string (nullable = true)\n",
            " |-- education: string (nullable = true)\n",
            " |-- default: string (nullable = true)\n",
            " |-- housing: string (nullable = true)\n",
            " |-- loan: string (nullable = true)\n",
            " |-- contact: string (nullable = true)\n",
            " |-- month: string (nullable = true)\n",
            " |-- day_of_week: string (nullable = true)\n",
            " |-- duration: integer (nullable = true)\n",
            " |-- campaign: integer (nullable = true)\n",
            " |-- pdays: integer (nullable = true)\n",
            " |-- previous: integer (nullable = true)\n",
            " |-- poutcome: string (nullable = true)\n",
            " |-- emp.var.rate: double (nullable = true)\n",
            " |-- cons.price.idx: double (nullable = true)\n",
            " |-- cons.conf.idx: double (nullable = true)\n",
            " |-- euribor3m: double (nullable = true)\n",
            " |-- nr.employed: double (nullable = true)\n",
            " |-- y: string (nullable = true)\n",
            "\n"
          ]
        }
      ]
    },
    {
      "cell_type": "markdown",
      "source": [
        "Column types look good"
      ],
      "metadata": {
        "id": "mGx7cKczx4ul"
      }
    },
    {
      "cell_type": "markdown",
      "source": [
        "Now we need to remove periods from column names"
      ],
      "metadata": {
        "id": "sYnqKDY_yhm1"
      }
    },
    {
      "cell_type": "code",
      "source": [
        "def remove_periods_from_columns(df):\n",
        "    \"\"\"\n",
        "    Remove periods from column names in a PySpark DataFrame.\n",
        "\n",
        "    Parameters:\n",
        "    - df: PySpark DataFrame\n",
        "\n",
        "    Returns:\n",
        "    - df: PySpark DataFrame with columns renamed\n",
        "    \"\"\"\n",
        "    # Get the current column names\n",
        "    columns = df.columns\n",
        "\n",
        "    # Create a dictionary to store the mapping of old column names to new column names\n",
        "    column_mapping = {col: col.replace('.', '_') for col in columns}\n",
        "\n",
        "    # Use withColumnRenamed to rename each column\n",
        "    for old_col, new_col in column_mapping.items():\n",
        "        df = df.withColumnRenamed(old_col, new_col)\n",
        "\n",
        "    return df"
      ],
      "metadata": {
        "id": "_zzi5mvRyXED"
      },
      "execution_count": 5,
      "outputs": []
    },
    {
      "cell_type": "code",
      "source": [
        "df = remove_periods_from_columns(df)"
      ],
      "metadata": {
        "id": "XT8Ivt8byaBi"
      },
      "execution_count": 6,
      "outputs": []
    },
    {
      "cell_type": "markdown",
      "source": [
        "Changed column names that had periods to having underscores"
      ],
      "metadata": {
        "id": "eG6v_ahUTkfg"
      }
    },
    {
      "cell_type": "markdown",
      "source": [
        "## EDA - Nulls"
      ],
      "metadata": {
        "id": "lJQf_45wkReb"
      }
    },
    {
      "cell_type": "code",
      "source": [
        "df.select([count(when(isnan(c), c)).alias(c) for c in df.columns]).show()"
      ],
      "metadata": {
        "colab": {
          "base_uri": "https://localhost:8080/"
        },
        "id": "cRdRfGF9x7IT",
        "outputId": "9bebf08b-4a90-40da-f5a1-810596f5c0a3"
      },
      "execution_count": 7,
      "outputs": [
        {
          "output_type": "stream",
          "name": "stdout",
          "text": [
            "+---+---+-------+---------+-------+-------+----+-------+-----+-----------+--------+--------+-----+--------+--------+------------+--------------+-------------+---------+-----------+---+\n",
            "|age|job|marital|education|default|housing|loan|contact|month|day_of_week|duration|campaign|pdays|previous|poutcome|emp_var_rate|cons_price_idx|cons_conf_idx|euribor3m|nr_employed|  y|\n",
            "+---+---+-------+---------+-------+-------+----+-------+-----+-----------+--------+--------+-----+--------+--------+------------+--------------+-------------+---------+-----------+---+\n",
            "|  0|  0|      0|        0|      0|      0|   0|      0|    0|          0|       0|       0|    0|       0|       0|           0|             0|            0|        0|          0|  0|\n",
            "+---+---+-------+---------+-------+-------+----+-------+-----+-----------+--------+--------+-----+--------+--------+------------+--------------+-------------+---------+-----------+---+\n",
            "\n"
          ]
        }
      ]
    },
    {
      "cell_type": "markdown",
      "source": [
        "No Nulls in data"
      ],
      "metadata": {
        "id": "LJviBekOyfhO"
      }
    },
    {
      "cell_type": "markdown",
      "source": [
        "## EDA - Numerical"
      ],
      "metadata": {
        "id": "k6fYksGjkUUK"
      }
    },
    {
      "cell_type": "markdown",
      "source": [
        "View Correlations between Predictors"
      ],
      "metadata": {
        "id": "zo87j_zH96Dq"
      }
    },
    {
      "cell_type": "code",
      "source": [
        "data=df.toPandas()\n",
        "corr = data.dropna().corr()\n",
        "corr.style.background_gradient(cmap='coolwarm').set_precision(2)"
      ],
      "metadata": {
        "colab": {
          "base_uri": "https://localhost:8080/",
          "height": 457
        },
        "id": "8oQsTOVwy6ws",
        "outputId": "b664fe7d-9c31-4198-ef10-42dd4c897227"
      },
      "execution_count": 8,
      "outputs": [
        {
          "output_type": "stream",
          "name": "stderr",
          "text": [
            "<ipython-input-8-8b3e1f22dbc8>:2: FutureWarning: The default value of numeric_only in DataFrame.corr is deprecated. In a future version, it will default to False. Select only valid columns or specify the value of numeric_only to silence this warning.\n",
            "  corr = data.dropna().corr()\n",
            "<ipython-input-8-8b3e1f22dbc8>:3: FutureWarning: this method is deprecated in favour of `Styler.format(precision=..)`\n",
            "  corr.style.background_gradient(cmap='coolwarm').set_precision(2)\n"
          ]
        },
        {
          "output_type": "execute_result",
          "data": {
            "text/plain": [
              "<pandas.io.formats.style.Styler at 0x7d0a1e42c040>"
            ],
            "text/html": [
              "<style type=\"text/css\">\n",
              "#T_4f5d3_row0_col0, #T_4f5d3_row1_col1, #T_4f5d3_row2_col2, #T_4f5d3_row3_col3, #T_4f5d3_row4_col4, #T_4f5d3_row5_col5, #T_4f5d3_row6_col6, #T_4f5d3_row7_col7, #T_4f5d3_row8_col8, #T_4f5d3_row9_col9 {\n",
              "  background-color: #b40426;\n",
              "  color: #f1f1f1;\n",
              "}\n",
              "#T_4f5d3_row0_col1 {\n",
              "  background-color: #4e68d8;\n",
              "  color: #f1f1f1;\n",
              "}\n",
              "#T_4f5d3_row0_col2, #T_4f5d3_row1_col7 {\n",
              "  background-color: #516ddb;\n",
              "  color: #f1f1f1;\n",
              "}\n",
              "#T_4f5d3_row0_col3 {\n",
              "  background-color: #afcafc;\n",
              "  color: #000000;\n",
              "}\n",
              "#T_4f5d3_row0_col4, #T_4f5d3_row1_col4 {\n",
              "  background-color: #bbd1f8;\n",
              "  color: #000000;\n",
              "}\n",
              "#T_4f5d3_row0_col5 {\n",
              "  background-color: #9dbdff;\n",
              "  color: #000000;\n",
              "}\n",
              "#T_4f5d3_row0_col6 {\n",
              "  background-color: #7093f3;\n",
              "  color: #f1f1f1;\n",
              "}\n",
              "#T_4f5d3_row0_col7 {\n",
              "  background-color: #7b9ff9;\n",
              "  color: #f1f1f1;\n",
              "}\n",
              "#T_4f5d3_row0_col8, #T_4f5d3_row2_col4 {\n",
              "  background-color: #a5c3fe;\n",
              "  color: #000000;\n",
              "}\n",
              "#T_4f5d3_row0_col9 {\n",
              "  background-color: #a6c4fe;\n",
              "  color: #000000;\n",
              "}\n",
              "#T_4f5d3_row1_col0, #T_4f5d3_row5_col0, #T_4f5d3_row6_col0 {\n",
              "  background-color: #445acc;\n",
              "  color: #f1f1f1;\n",
              "}\n",
              "#T_4f5d3_row1_col2 {\n",
              "  background-color: #3c4ec2;\n",
              "  color: #f1f1f1;\n",
              "}\n",
              "#T_4f5d3_row1_col3 {\n",
              "  background-color: #adc9fd;\n",
              "  color: #000000;\n",
              "}\n",
              "#T_4f5d3_row1_col5, #T_4f5d3_row2_col6 {\n",
              "  background-color: #96b7ff;\n",
              "  color: #000000;\n",
              "}\n",
              "#T_4f5d3_row1_col6 {\n",
              "  background-color: #7295f4;\n",
              "  color: #f1f1f1;\n",
              "}\n",
              "#T_4f5d3_row1_col8 {\n",
              "  background-color: #9bbcff;\n",
              "  color: #000000;\n",
              "}\n",
              "#T_4f5d3_row1_col9 {\n",
              "  background-color: #9fbfff;\n",
              "  color: #000000;\n",
              "}\n",
              "#T_4f5d3_row2_col0, #T_4f5d3_row4_col7, #T_4f5d3_row8_col1 {\n",
              "  background-color: #455cce;\n",
              "  color: #f1f1f1;\n",
              "}\n",
              "#T_4f5d3_row2_col1, #T_4f5d3_row3_col0, #T_4f5d3_row3_col4, #T_4f5d3_row3_col7, #T_4f5d3_row4_col2, #T_4f5d3_row4_col3, #T_4f5d3_row4_col5, #T_4f5d3_row4_col6, #T_4f5d3_row4_col8, #T_4f5d3_row4_col9 {\n",
              "  background-color: #3b4cc0;\n",
              "  color: #f1f1f1;\n",
              "}\n",
              "#T_4f5d3_row2_col3, #T_4f5d3_row2_col8 {\n",
              "  background-color: #c1d4f4;\n",
              "  color: #000000;\n",
              "}\n",
              "#T_4f5d3_row2_col5, #T_4f5d3_row7_col9 {\n",
              "  background-color: #c0d4f5;\n",
              "  color: #000000;\n",
              "}\n",
              "#T_4f5d3_row2_col7, #T_4f5d3_row6_col1 {\n",
              "  background-color: #506bda;\n",
              "  color: #f1f1f1;\n",
              "}\n",
              "#T_4f5d3_row2_col9 {\n",
              "  background-color: #cad8ef;\n",
              "  color: #000000;\n",
              "}\n",
              "#T_4f5d3_row3_col1 {\n",
              "  background-color: #4055c8;\n",
              "  color: #f1f1f1;\n",
              "}\n",
              "#T_4f5d3_row3_col2 {\n",
              "  background-color: #6180e9;\n",
              "  color: #f1f1f1;\n",
              "}\n",
              "#T_4f5d3_row3_col5 {\n",
              "  background-color: #d9dce1;\n",
              "  color: #000000;\n",
              "}\n",
              "#T_4f5d3_row3_col6 {\n",
              "  background-color: #88abfd;\n",
              "  color: #000000;\n",
              "}\n",
              "#T_4f5d3_row3_col8 {\n",
              "  background-color: #e1dad6;\n",
              "  color: #000000;\n",
              "}\n",
              "#T_4f5d3_row3_col9 {\n",
              "  background-color: #efcebd;\n",
              "  color: #000000;\n",
              "}\n",
              "#T_4f5d3_row4_col0 {\n",
              "  background-color: #4b64d5;\n",
              "  color: #f1f1f1;\n",
              "}\n",
              "#T_4f5d3_row4_col1 {\n",
              "  background-color: #5572df;\n",
              "  color: #f1f1f1;\n",
              "}\n",
              "#T_4f5d3_row5_col1 {\n",
              "  background-color: #465ecf;\n",
              "  color: #f1f1f1;\n",
              "}\n",
              "#T_4f5d3_row5_col2 {\n",
              "  background-color: #80a3fa;\n",
              "  color: #f1f1f1;\n",
              "}\n",
              "#T_4f5d3_row5_col3 {\n",
              "  background-color: #e7d7ce;\n",
              "  color: #000000;\n",
              "}\n",
              "#T_4f5d3_row5_col4 {\n",
              "  background-color: #5a78e4;\n",
              "  color: #f1f1f1;\n",
              "}\n",
              "#T_4f5d3_row5_col6 {\n",
              "  background-color: #eb7d62;\n",
              "  color: #f1f1f1;\n",
              "}\n",
              "#T_4f5d3_row5_col7 {\n",
              "  background-color: #92b4fe;\n",
              "  color: #000000;\n",
              "}\n",
              "#T_4f5d3_row5_col8 {\n",
              "  background-color: #ba162b;\n",
              "  color: #f1f1f1;\n",
              "}\n",
              "#T_4f5d3_row5_col9 {\n",
              "  background-color: #ca3b37;\n",
              "  color: #f1f1f1;\n",
              "}\n",
              "#T_4f5d3_row6_col2 {\n",
              "  background-color: #799cf8;\n",
              "  color: #f1f1f1;\n",
              "}\n",
              "#T_4f5d3_row6_col3 {\n",
              "  background-color: #c6d6f1;\n",
              "  color: #000000;\n",
              "}\n",
              "#T_4f5d3_row6_col4 {\n",
              "  background-color: #89acfd;\n",
              "  color: #000000;\n",
              "}\n",
              "#T_4f5d3_row6_col5 {\n",
              "  background-color: #e57058;\n",
              "  color: #f1f1f1;\n",
              "}\n",
              "#T_4f5d3_row6_col7 {\n",
              "  background-color: #6687ed;\n",
              "  color: #f1f1f1;\n",
              "}\n",
              "#T_4f5d3_row6_col8 {\n",
              "  background-color: #f08a6c;\n",
              "  color: #f1f1f1;\n",
              "}\n",
              "#T_4f5d3_row6_col9 {\n",
              "  background-color: #f7b396;\n",
              "  color: #000000;\n",
              "}\n",
              "#T_4f5d3_row7_col0 {\n",
              "  background-color: #6c8ff1;\n",
              "  color: #f1f1f1;\n",
              "}\n",
              "#T_4f5d3_row7_col1, #T_4f5d3_row7_col2 {\n",
              "  background-color: #4c66d6;\n",
              "  color: #f1f1f1;\n",
              "}\n",
              "#T_4f5d3_row7_col3 {\n",
              "  background-color: #a3c2fe;\n",
              "  color: #000000;\n",
              "}\n",
              "#T_4f5d3_row7_col4, #T_4f5d3_row8_col7 {\n",
              "  background-color: #abc8fd;\n",
              "  color: #000000;\n",
              "}\n",
              "#T_4f5d3_row7_col5 {\n",
              "  background-color: #cbd8ee;\n",
              "  color: #000000;\n",
              "}\n",
              "#T_4f5d3_row7_col6 {\n",
              "  background-color: #81a4fb;\n",
              "  color: #f1f1f1;\n",
              "}\n",
              "#T_4f5d3_row7_col8 {\n",
              "  background-color: #dddcdc;\n",
              "  color: #000000;\n",
              "}\n",
              "#T_4f5d3_row8_col0 {\n",
              "  background-color: #485fd1;\n",
              "  color: #f1f1f1;\n",
              "}\n",
              "#T_4f5d3_row8_col2 {\n",
              "  background-color: #7a9df8;\n",
              "  color: #f1f1f1;\n",
              "}\n",
              "#T_4f5d3_row8_col3 {\n",
              "  background-color: #ead4c8;\n",
              "  color: #000000;\n",
              "}\n",
              "#T_4f5d3_row8_col4 {\n",
              "  background-color: #5470de;\n",
              "  color: #f1f1f1;\n",
              "}\n",
              "#T_4f5d3_row8_col5 {\n",
              "  background-color: #bb1b2c;\n",
              "  color: #f1f1f1;\n",
              "}\n",
              "#T_4f5d3_row8_col6 {\n",
              "  background-color: #f59d7e;\n",
              "  color: #000000;\n",
              "}\n",
              "#T_4f5d3_row8_col9, #T_4f5d3_row9_col8 {\n",
              "  background-color: #c12b30;\n",
              "  color: #f1f1f1;\n",
              "}\n",
              "#T_4f5d3_row9_col0 {\n",
              "  background-color: #3f53c6;\n",
              "  color: #f1f1f1;\n",
              "}\n",
              "#T_4f5d3_row9_col1 {\n",
              "  background-color: #4257c9;\n",
              "  color: #f1f1f1;\n",
              "}\n",
              "#T_4f5d3_row9_col2 {\n",
              "  background-color: #7da0f9;\n",
              "  color: #f1f1f1;\n",
              "}\n",
              "#T_4f5d3_row9_col3, #T_4f5d3_row9_col6 {\n",
              "  background-color: #f2cab5;\n",
              "  color: #000000;\n",
              "}\n",
              "#T_4f5d3_row9_col4 {\n",
              "  background-color: #4a63d3;\n",
              "  color: #f1f1f1;\n",
              "}\n",
              "#T_4f5d3_row9_col5 {\n",
              "  background-color: #cb3e38;\n",
              "  color: #f1f1f1;\n",
              "}\n",
              "#T_4f5d3_row9_col7 {\n",
              "  background-color: #7396f5;\n",
              "  color: #f1f1f1;\n",
              "}\n",
              "</style>\n",
              "<table id=\"T_4f5d3\" class=\"dataframe\">\n",
              "  <thead>\n",
              "    <tr>\n",
              "      <th class=\"blank level0\" >&nbsp;</th>\n",
              "      <th id=\"T_4f5d3_level0_col0\" class=\"col_heading level0 col0\" >age</th>\n",
              "      <th id=\"T_4f5d3_level0_col1\" class=\"col_heading level0 col1\" >duration</th>\n",
              "      <th id=\"T_4f5d3_level0_col2\" class=\"col_heading level0 col2\" >campaign</th>\n",
              "      <th id=\"T_4f5d3_level0_col3\" class=\"col_heading level0 col3\" >pdays</th>\n",
              "      <th id=\"T_4f5d3_level0_col4\" class=\"col_heading level0 col4\" >previous</th>\n",
              "      <th id=\"T_4f5d3_level0_col5\" class=\"col_heading level0 col5\" >emp_var_rate</th>\n",
              "      <th id=\"T_4f5d3_level0_col6\" class=\"col_heading level0 col6\" >cons_price_idx</th>\n",
              "      <th id=\"T_4f5d3_level0_col7\" class=\"col_heading level0 col7\" >cons_conf_idx</th>\n",
              "      <th id=\"T_4f5d3_level0_col8\" class=\"col_heading level0 col8\" >euribor3m</th>\n",
              "      <th id=\"T_4f5d3_level0_col9\" class=\"col_heading level0 col9\" >nr_employed</th>\n",
              "    </tr>\n",
              "  </thead>\n",
              "  <tbody>\n",
              "    <tr>\n",
              "      <th id=\"T_4f5d3_level0_row0\" class=\"row_heading level0 row0\" >age</th>\n",
              "      <td id=\"T_4f5d3_row0_col0\" class=\"data row0 col0\" >1.00</td>\n",
              "      <td id=\"T_4f5d3_row0_col1\" class=\"data row0 col1\" >-0.00</td>\n",
              "      <td id=\"T_4f5d3_row0_col2\" class=\"data row0 col2\" >0.00</td>\n",
              "      <td id=\"T_4f5d3_row0_col3\" class=\"data row0 col3\" >-0.03</td>\n",
              "      <td id=\"T_4f5d3_row0_col4\" class=\"data row0 col4\" >0.02</td>\n",
              "      <td id=\"T_4f5d3_row0_col5\" class=\"data row0 col5\" >-0.00</td>\n",
              "      <td id=\"T_4f5d3_row0_col6\" class=\"data row0 col6\" >0.00</td>\n",
              "      <td id=\"T_4f5d3_row0_col7\" class=\"data row0 col7\" >0.13</td>\n",
              "      <td id=\"T_4f5d3_row0_col8\" class=\"data row0 col8\" >0.01</td>\n",
              "      <td id=\"T_4f5d3_row0_col9\" class=\"data row0 col9\" >-0.02</td>\n",
              "    </tr>\n",
              "    <tr>\n",
              "      <th id=\"T_4f5d3_level0_row1\" class=\"row_heading level0 row1\" >duration</th>\n",
              "      <td id=\"T_4f5d3_row1_col0\" class=\"data row1 col0\" >-0.00</td>\n",
              "      <td id=\"T_4f5d3_row1_col1\" class=\"data row1 col1\" >1.00</td>\n",
              "      <td id=\"T_4f5d3_row1_col2\" class=\"data row1 col2\" >-0.07</td>\n",
              "      <td id=\"T_4f5d3_row1_col3\" class=\"data row1 col3\" >-0.05</td>\n",
              "      <td id=\"T_4f5d3_row1_col4\" class=\"data row1 col4\" >0.02</td>\n",
              "      <td id=\"T_4f5d3_row1_col5\" class=\"data row1 col5\" >-0.03</td>\n",
              "      <td id=\"T_4f5d3_row1_col6\" class=\"data row1 col6\" >0.01</td>\n",
              "      <td id=\"T_4f5d3_row1_col7\" class=\"data row1 col7\" >-0.01</td>\n",
              "      <td id=\"T_4f5d3_row1_col8\" class=\"data row1 col8\" >-0.03</td>\n",
              "      <td id=\"T_4f5d3_row1_col9\" class=\"data row1 col9\" >-0.04</td>\n",
              "    </tr>\n",
              "    <tr>\n",
              "      <th id=\"T_4f5d3_level0_row2\" class=\"row_heading level0 row2\" >campaign</th>\n",
              "      <td id=\"T_4f5d3_row2_col0\" class=\"data row2 col0\" >0.00</td>\n",
              "      <td id=\"T_4f5d3_row2_col1\" class=\"data row2 col1\" >-0.07</td>\n",
              "      <td id=\"T_4f5d3_row2_col2\" class=\"data row2 col2\" >1.00</td>\n",
              "      <td id=\"T_4f5d3_row2_col3\" class=\"data row2 col3\" >0.05</td>\n",
              "      <td id=\"T_4f5d3_row2_col4\" class=\"data row2 col4\" >-0.08</td>\n",
              "      <td id=\"T_4f5d3_row2_col5\" class=\"data row2 col5\" >0.15</td>\n",
              "      <td id=\"T_4f5d3_row2_col6\" class=\"data row2 col6\" >0.13</td>\n",
              "      <td id=\"T_4f5d3_row2_col7\" class=\"data row2 col7\" >-0.01</td>\n",
              "      <td id=\"T_4f5d3_row2_col8\" class=\"data row2 col8\" >0.14</td>\n",
              "      <td id=\"T_4f5d3_row2_col9\" class=\"data row2 col9\" >0.14</td>\n",
              "    </tr>\n",
              "    <tr>\n",
              "      <th id=\"T_4f5d3_level0_row3\" class=\"row_heading level0 row3\" >pdays</th>\n",
              "      <td id=\"T_4f5d3_row3_col0\" class=\"data row3 col0\" >-0.03</td>\n",
              "      <td id=\"T_4f5d3_row3_col1\" class=\"data row3 col1\" >-0.05</td>\n",
              "      <td id=\"T_4f5d3_row3_col2\" class=\"data row3 col2\" >0.05</td>\n",
              "      <td id=\"T_4f5d3_row3_col3\" class=\"data row3 col3\" >1.00</td>\n",
              "      <td id=\"T_4f5d3_row3_col4\" class=\"data row3 col4\" >-0.59</td>\n",
              "      <td id=\"T_4f5d3_row3_col5\" class=\"data row3 col5\" >0.27</td>\n",
              "      <td id=\"T_4f5d3_row3_col6\" class=\"data row3 col6\" >0.08</td>\n",
              "      <td id=\"T_4f5d3_row3_col7\" class=\"data row3 col7\" >-0.09</td>\n",
              "      <td id=\"T_4f5d3_row3_col8\" class=\"data row3 col8\" >0.30</td>\n",
              "      <td id=\"T_4f5d3_row3_col9\" class=\"data row3 col9\" >0.37</td>\n",
              "    </tr>\n",
              "    <tr>\n",
              "      <th id=\"T_4f5d3_level0_row4\" class=\"row_heading level0 row4\" >previous</th>\n",
              "      <td id=\"T_4f5d3_row4_col0\" class=\"data row4 col0\" >0.02</td>\n",
              "      <td id=\"T_4f5d3_row4_col1\" class=\"data row4 col1\" >0.02</td>\n",
              "      <td id=\"T_4f5d3_row4_col2\" class=\"data row4 col2\" >-0.08</td>\n",
              "      <td id=\"T_4f5d3_row4_col3\" class=\"data row4 col3\" >-0.59</td>\n",
              "      <td id=\"T_4f5d3_row4_col4\" class=\"data row4 col4\" >1.00</td>\n",
              "      <td id=\"T_4f5d3_row4_col5\" class=\"data row4 col5\" >-0.42</td>\n",
              "      <td id=\"T_4f5d3_row4_col6\" class=\"data row4 col6\" >-0.20</td>\n",
              "      <td id=\"T_4f5d3_row4_col7\" class=\"data row4 col7\" >-0.05</td>\n",
              "      <td id=\"T_4f5d3_row4_col8\" class=\"data row4 col8\" >-0.45</td>\n",
              "      <td id=\"T_4f5d3_row4_col9\" class=\"data row4 col9\" >-0.50</td>\n",
              "    </tr>\n",
              "    <tr>\n",
              "      <th id=\"T_4f5d3_level0_row5\" class=\"row_heading level0 row5\" >emp_var_rate</th>\n",
              "      <td id=\"T_4f5d3_row5_col0\" class=\"data row5 col0\" >-0.00</td>\n",
              "      <td id=\"T_4f5d3_row5_col1\" class=\"data row5 col1\" >-0.03</td>\n",
              "      <td id=\"T_4f5d3_row5_col2\" class=\"data row5 col2\" >0.15</td>\n",
              "      <td id=\"T_4f5d3_row5_col3\" class=\"data row5 col3\" >0.27</td>\n",
              "      <td id=\"T_4f5d3_row5_col4\" class=\"data row5 col4\" >-0.42</td>\n",
              "      <td id=\"T_4f5d3_row5_col5\" class=\"data row5 col5\" >1.00</td>\n",
              "      <td id=\"T_4f5d3_row5_col6\" class=\"data row5 col6\" >0.78</td>\n",
              "      <td id=\"T_4f5d3_row5_col7\" class=\"data row5 col7\" >0.20</td>\n",
              "      <td id=\"T_4f5d3_row5_col8\" class=\"data row5 col8\" >0.97</td>\n",
              "      <td id=\"T_4f5d3_row5_col9\" class=\"data row5 col9\" >0.91</td>\n",
              "    </tr>\n",
              "    <tr>\n",
              "      <th id=\"T_4f5d3_level0_row6\" class=\"row_heading level0 row6\" >cons_price_idx</th>\n",
              "      <td id=\"T_4f5d3_row6_col0\" class=\"data row6 col0\" >0.00</td>\n",
              "      <td id=\"T_4f5d3_row6_col1\" class=\"data row6 col1\" >0.01</td>\n",
              "      <td id=\"T_4f5d3_row6_col2\" class=\"data row6 col2\" >0.13</td>\n",
              "      <td id=\"T_4f5d3_row6_col3\" class=\"data row6 col3\" >0.08</td>\n",
              "      <td id=\"T_4f5d3_row6_col4\" class=\"data row6 col4\" >-0.20</td>\n",
              "      <td id=\"T_4f5d3_row6_col5\" class=\"data row6 col5\" >0.78</td>\n",
              "      <td id=\"T_4f5d3_row6_col6\" class=\"data row6 col6\" >1.00</td>\n",
              "      <td id=\"T_4f5d3_row6_col7\" class=\"data row6 col7\" >0.06</td>\n",
              "      <td id=\"T_4f5d3_row6_col8\" class=\"data row6 col8\" >0.69</td>\n",
              "      <td id=\"T_4f5d3_row6_col9\" class=\"data row6 col9\" >0.52</td>\n",
              "    </tr>\n",
              "    <tr>\n",
              "      <th id=\"T_4f5d3_level0_row7\" class=\"row_heading level0 row7\" >cons_conf_idx</th>\n",
              "      <td id=\"T_4f5d3_row7_col0\" class=\"data row7 col0\" >0.13</td>\n",
              "      <td id=\"T_4f5d3_row7_col1\" class=\"data row7 col1\" >-0.01</td>\n",
              "      <td id=\"T_4f5d3_row7_col2\" class=\"data row7 col2\" >-0.01</td>\n",
              "      <td id=\"T_4f5d3_row7_col3\" class=\"data row7 col3\" >-0.09</td>\n",
              "      <td id=\"T_4f5d3_row7_col4\" class=\"data row7 col4\" >-0.05</td>\n",
              "      <td id=\"T_4f5d3_row7_col5\" class=\"data row7 col5\" >0.20</td>\n",
              "      <td id=\"T_4f5d3_row7_col6\" class=\"data row7 col6\" >0.06</td>\n",
              "      <td id=\"T_4f5d3_row7_col7\" class=\"data row7 col7\" >1.00</td>\n",
              "      <td id=\"T_4f5d3_row7_col8\" class=\"data row7 col8\" >0.28</td>\n",
              "      <td id=\"T_4f5d3_row7_col9\" class=\"data row7 col9\" >0.10</td>\n",
              "    </tr>\n",
              "    <tr>\n",
              "      <th id=\"T_4f5d3_level0_row8\" class=\"row_heading level0 row8\" >euribor3m</th>\n",
              "      <td id=\"T_4f5d3_row8_col0\" class=\"data row8 col0\" >0.01</td>\n",
              "      <td id=\"T_4f5d3_row8_col1\" class=\"data row8 col1\" >-0.03</td>\n",
              "      <td id=\"T_4f5d3_row8_col2\" class=\"data row8 col2\" >0.14</td>\n",
              "      <td id=\"T_4f5d3_row8_col3\" class=\"data row8 col3\" >0.30</td>\n",
              "      <td id=\"T_4f5d3_row8_col4\" class=\"data row8 col4\" >-0.45</td>\n",
              "      <td id=\"T_4f5d3_row8_col5\" class=\"data row8 col5\" >0.97</td>\n",
              "      <td id=\"T_4f5d3_row8_col6\" class=\"data row8 col6\" >0.69</td>\n",
              "      <td id=\"T_4f5d3_row8_col7\" class=\"data row8 col7\" >0.28</td>\n",
              "      <td id=\"T_4f5d3_row8_col8\" class=\"data row8 col8\" >1.00</td>\n",
              "      <td id=\"T_4f5d3_row8_col9\" class=\"data row8 col9\" >0.95</td>\n",
              "    </tr>\n",
              "    <tr>\n",
              "      <th id=\"T_4f5d3_level0_row9\" class=\"row_heading level0 row9\" >nr_employed</th>\n",
              "      <td id=\"T_4f5d3_row9_col0\" class=\"data row9 col0\" >-0.02</td>\n",
              "      <td id=\"T_4f5d3_row9_col1\" class=\"data row9 col1\" >-0.04</td>\n",
              "      <td id=\"T_4f5d3_row9_col2\" class=\"data row9 col2\" >0.14</td>\n",
              "      <td id=\"T_4f5d3_row9_col3\" class=\"data row9 col3\" >0.37</td>\n",
              "      <td id=\"T_4f5d3_row9_col4\" class=\"data row9 col4\" >-0.50</td>\n",
              "      <td id=\"T_4f5d3_row9_col5\" class=\"data row9 col5\" >0.91</td>\n",
              "      <td id=\"T_4f5d3_row9_col6\" class=\"data row9 col6\" >0.52</td>\n",
              "      <td id=\"T_4f5d3_row9_col7\" class=\"data row9 col7\" >0.10</td>\n",
              "      <td id=\"T_4f5d3_row9_col8\" class=\"data row9 col8\" >0.95</td>\n",
              "      <td id=\"T_4f5d3_row9_col9\" class=\"data row9 col9\" >1.00</td>\n",
              "    </tr>\n",
              "  </tbody>\n",
              "</table>\n"
            ]
          },
          "metadata": {},
          "execution_count": 8
        }
      ]
    },
    {
      "cell_type": "markdown",
      "source": [
        "Some variables are highly correlated, we have multicollinearity.\n",
        "\n",
        "Especially these:\n",
        "\n",
        "\n",
        "1.   euribor3m\n",
        "2.   nr_employed\n",
        "3.   emp_var_rate\n",
        "\n",
        "\n"
      ],
      "metadata": {
        "id": "gARP0OxE5lRL"
      }
    },
    {
      "cell_type": "markdown",
      "source": [
        "View Univariate Distributions"
      ],
      "metadata": {
        "id": "da77U9yq9_uB"
      }
    },
    {
      "cell_type": "code",
      "source": [
        "numerical_columns = [col[0] for col in df.dtypes if col[1] in ('int', 'double')]\n",
        "\n",
        "# Plot histograms for all numerical variables\n",
        "for column in numerical_columns:\n",
        "    column_data = df.select(column).toPandas()\n",
        "\n",
        "    plt.figure(figsize=(8, 6))\n",
        "    plt.hist(column_data[column], bins=20, color='skyblue', edgecolor='black')\n",
        "    plt.title(f\"Distribution of {column}\")\n",
        "    plt.xlabel(column)\n",
        "    plt.ylabel(\"Frequency\")\n",
        "    plt.show()"
      ],
      "metadata": {
        "colab": {
          "base_uri": "https://localhost:8080/",
          "height": 1000
        },
        "id": "M8p6-nUJynud",
        "outputId": "036c4363-0a97-48af-a985-309de9f6d3be"
      },
      "execution_count": 9,
      "outputs": [
        {
          "output_type": "display_data",
          "data": {
            "text/plain": [
              "<Figure size 800x600 with 1 Axes>"
            ],
            "image/png": "[encoded data removed]"
          },
          "metadata": {}
        },
        {
          "output_type": "display_data",
          "data": {
            "text/plain": [
              "<Figure size 800x600 with 1 Axes>"
            ],
            "image/png": "[encoded data removed]"
          },
          "metadata": {}
        },
        {
          "output_type": "display_data",
          "data": {
            "text/plain": [
              "<Figure size 800x600 with 1 Axes>"
            ],
            "image/png": "[encoded data removed]"
          },
          "metadata": {}
        },
        {
          "output_type": "display_data",
          "data": {
            "text/plain": [
              "<Figure size 800x600 with 1 Axes>"
            ],
            "image/png": "[encoded data removed]"
          },
          "metadata": {}
        },
        {
          "output_type": "display_data",
          "data": {
            "text/plain": [
              "<Figure size 800x600 with 1 Axes>"
            ],
            "image/png": "[encoded data removed]"
          },
          "metadata": {}
        },
        {
          "output_type": "display_data",
          "data": {
            "text/plain": [
              "<Figure size 800x600 with 1 Axes>"
            ],
            "image/png": "[encoded data removed]"
          },
          "metadata": {}
        },
        {
          "output_type": "display_data",
          "data": {
            "text/plain": [
              "<Figure size 800x600 with 1 Axes>"
            ],
            "image/png": "[encoded data removed]"
          },
          "metadata": {}
        },
        {
          "output_type": "display_data",
          "data": {
            "text/plain": [
              "<Figure size 800x600 with 1 Axes>"
            ],
            "image/png": "[encoded data removed]"
          },
          "metadata": {}
        },
        {
          "output_type": "display_data",
          "data": {
            "text/plain": [
              "<Figure size 800x600 with 1 Axes>"
            ],
            "image/png": "[encoded data removed]"
          },
          "metadata": {}
        },
        {
          "output_type": "display_data",
          "data": {
            "text/plain": [
              "<Figure size 800x600 with 1 Axes>"
            ],
            "image/png": "[encoded data removed]"
          },
          "metadata": {}
        }
      ]
    },
    {
      "cell_type": "markdown",
      "source": [
        "None of the variables are normally distributed.\n",
        "\n",
        "The closest ones will be transformed with StandardScaler: **age, duration, campaign, emp_var_rate, cons_price_idx, cons_conf_idx, nr_employed**\n",
        "\n",
        "The others that look like they fall into two groups will be bucketed: **pdays** and **euribor3m** and **previous**"
      ],
      "metadata": {
        "id": "xLI7yTqFy1qa"
      }
    },
    {
      "cell_type": "markdown",
      "source": [
        "## Bucket Certain Numerical Variables"
      ],
      "metadata": {
        "id": "V4CIW0avkI5m"
      }
    },
    {
      "cell_type": "markdown",
      "source": [
        "### Bucket *pdays*"
      ],
      "metadata": {
        "id": "nejm2urwtEOv"
      }
    },
    {
      "cell_type": "code",
      "source": [
        "# Define conditions for creating the new column\n",
        "conditions = [\n",
        "    (col(\"pdays\") <= 200, \"0\"),\n",
        "    (col(\"pdays\") > 200, \"1\")\n",
        "]\n",
        "\n",
        "# Apply conditions using the 'when' function and create the new column 'pdaysGroup'\n",
        "df = df.withColumn(\"pdaysGroup\",\n",
        "                  when(conditions[0][0], conditions[0][1])\n",
        "                  .when(conditions[1][0], conditions[1][1])\n",
        "                  .otherwise(\"0\"))"
      ],
      "metadata": {
        "id": "OBUzFqh3CBIC"
      },
      "execution_count": 10,
      "outputs": []
    },
    {
      "cell_type": "markdown",
      "source": [
        "Verify if grouping provided good separation in the target variable"
      ],
      "metadata": {
        "id": "j9z6gELr-Hq2"
      }
    },
    {
      "cell_type": "code",
      "source": [
        "count_y_by_pdaysGroup = df.groupBy('pdaysGroup').agg(\n",
        "    F.sum(F.when(df['y'] == 'yes', 1).otherwise(0)).alias('count_y_yes'),\n",
        "    F.sum(F.when(df['y'] == 'no', 1).otherwise(0)).alias('count_y_no')\n",
        ")\n",
        "\n",
        "count_y_by_pdaysGroup2 = count_y_by_pdaysGroup.withColumn('ratio', count_y_by_pdaysGroup['count_y_yes'] / (count_y_by_pdaysGroup['count_y_yes'] + count_y_by_pdaysGroup['count_y_no']))\n",
        "count_y_by_pdaysGroup2 = count_y_by_pdaysGroup2.withColumn('yes_rate', F.round(count_y_by_pdaysGroup2['ratio'], 2))\n",
        "\n",
        "count_y_by_pdaysGroup2.select('pdaysGroup','count_y_yes','count_y_no','yes_rate').show()"
      ],
      "metadata": {
        "colab": {
          "base_uri": "https://localhost:8080/"
        },
        "id": "LhKv-nLDvJ0Z",
        "outputId": "d342aa0c-a98e-43cc-ba9d-72dda3dc8545"
      },
      "execution_count": 11,
      "outputs": [
        {
          "output_type": "stream",
          "name": "stdout",
          "text": [
            "+----------+-----------+----------+--------+\n",
            "|pdaysGroup|count_y_yes|count_y_no|yes_rate|\n",
            "+----------+-----------+----------+--------+\n",
            "|         0|        967|       548|    0.64|\n",
            "|         1|       3673|     36000|    0.09|\n",
            "+----------+-----------+----------+--------+\n",
            "\n"
          ]
        }
      ]
    },
    {
      "cell_type": "markdown",
      "source": [
        "Good difference in the yes rate between the two groups, so we will keep this grouping"
      ],
      "metadata": {
        "id": "I5B64voQ1tJx"
      }
    },
    {
      "cell_type": "code",
      "source": [
        "# Drop original column\n",
        "df = df.drop('pdays')"
      ],
      "metadata": {
        "id": "-_mDWGqu10OU"
      },
      "execution_count": 12,
      "outputs": []
    },
    {
      "cell_type": "markdown",
      "source": [
        "### Bucket *euribor3m*"
      ],
      "metadata": {
        "id": "-P5CtepbtHl0"
      }
    },
    {
      "cell_type": "code",
      "source": [
        "# Define conditions for creating the new column\n",
        "conditions = [\n",
        "    (col(\"euribor3m\") <= 3, \"0\"),\n",
        "    (col(\"euribor3m\") > 3, \"1\")\n",
        "]\n",
        "\n",
        "# Apply conditions using the 'when' function and create the new column 'euribor3mGroup'\n",
        "df = df.withColumn(\"euribor3mGroup\",\n",
        "                  when(conditions[0][0], conditions[0][1])\n",
        "                  .when(conditions[1][0], conditions[1][1])\n",
        "                  .otherwise(\"0\"))"
      ],
      "metadata": {
        "id": "ZBEtUtL8CiLk"
      },
      "execution_count": 13,
      "outputs": []
    },
    {
      "cell_type": "markdown",
      "source": [
        "Verify if grouping provided good separation in the target variable"
      ],
      "metadata": {
        "id": "hfuPsFS1-N-_"
      }
    },
    {
      "cell_type": "code",
      "source": [
        "count_y_by_euribor3mGroup = df.groupBy('euribor3mGroup').agg(\n",
        "    F.sum(F.when(df['y'] == 'yes', 1).otherwise(0)).alias('count_y_yes'),\n",
        "    F.sum(F.when(df['y'] == 'no', 1).otherwise(0)).alias('count_y_no')\n",
        ")\n",
        "\n",
        "count_y_by_euribor3mGroup2 = count_y_by_euribor3mGroup.withColumn('ratio', count_y_by_euribor3mGroup['count_y_yes'] / (count_y_by_euribor3mGroup['count_y_yes'] + count_y_by_euribor3mGroup['count_y_no']))\n",
        "count_y_by_euribor3mGroup2 = count_y_by_euribor3mGroup2.withColumn('yes_rate', F.round(count_y_by_euribor3mGroup2['ratio'], 2))\n",
        "\n",
        "count_y_by_euribor3mGroup2.select('euribor3mGroup','count_y_yes','count_y_no','yes_rate').show()"
      ],
      "metadata": {
        "colab": {
          "base_uri": "https://localhost:8080/"
        },
        "id": "ahOsUpkJ0TVC",
        "outputId": "7ed43b60-0d29-45aa-c228-d413bbb37762"
      },
      "execution_count": 14,
      "outputs": [
        {
          "output_type": "stream",
          "name": "stdout",
          "text": [
            "+--------------+-----------+----------+--------+\n",
            "|euribor3mGroup|count_y_yes|count_y_no|yes_rate|\n",
            "+--------------+-----------+----------+--------+\n",
            "|             0|       3301|     10197|    0.24|\n",
            "|             1|       1339|     26351|    0.05|\n",
            "+--------------+-----------+----------+--------+\n",
            "\n"
          ]
        }
      ]
    },
    {
      "cell_type": "markdown",
      "source": [
        "Good difference in the yes rate between the two groups, so we will keep this grouping"
      ],
      "metadata": {
        "id": "6L-34v8l14jz"
      }
    },
    {
      "cell_type": "code",
      "source": [
        "# Drop original column\n",
        "df = df.drop('euribor3m')"
      ],
      "metadata": {
        "id": "Zhe5ZoLg16Nk"
      },
      "execution_count": 15,
      "outputs": []
    },
    {
      "cell_type": "markdown",
      "source": [
        "### Bucket *previous*"
      ],
      "metadata": {
        "id": "h_lTvHk4tKDm"
      }
    },
    {
      "cell_type": "code",
      "source": [
        "# Define conditions for creating the new column\n",
        "conditions = [\n",
        "    (col(\"previous\") <= 0, \"0\"),\n",
        "    (col(\"previous\") > 0, \"1\")\n",
        "]\n",
        "\n",
        "# Apply conditions using the 'when' function and create the new column 'previousGroup'\n",
        "df = df.withColumn(\"previousGroup\",\n",
        "                  when(conditions[0][0], conditions[0][1])\n",
        "                  .when(conditions[1][0], conditions[1][1])\n",
        "                  .otherwise(\"0\"))"
      ],
      "metadata": {
        "id": "sGzWw2MPMMKF"
      },
      "execution_count": 16,
      "outputs": []
    },
    {
      "cell_type": "markdown",
      "source": [
        "Verify if grouping provided good separation in the target variable"
      ],
      "metadata": {
        "id": "OHWW2cgI-O7F"
      }
    },
    {
      "cell_type": "code",
      "source": [
        "count_y_by_previousGroup = df.groupBy('previousGroup').agg(\n",
        "    F.sum(F.when(df['y'] == 'yes', 1).otherwise(0)).alias('count_y_yes'),\n",
        "    F.sum(F.when(df['y'] == 'no', 1).otherwise(0)).alias('count_y_no')\n",
        ")\n",
        "\n",
        "count_y_by_previousGroup2 = count_y_by_previousGroup.withColumn('ratio', count_y_by_previousGroup['count_y_yes'] / (count_y_by_previousGroup['count_y_yes'] + count_y_by_previousGroup['count_y_no']))\n",
        "count_y_by_previousGroup2 = count_y_by_previousGroup2.withColumn('yes_rate', F.round(count_y_by_previousGroup2['ratio'], 2))\n",
        "\n",
        "count_y_by_previousGroup2.select('previousGroup','count_y_yes','count_y_no','yes_rate').show()"
      ],
      "metadata": {
        "colab": {
          "base_uri": "https://localhost:8080/"
        },
        "id": "eNMHaOBT0mgX",
        "outputId": "60c56770-2751-4dd2-d4eb-38946228d46a"
      },
      "execution_count": 17,
      "outputs": [
        {
          "output_type": "stream",
          "name": "stdout",
          "text": [
            "+-------------+-----------+----------+--------+\n",
            "|previousGroup|count_y_yes|count_y_no|yes_rate|\n",
            "+-------------+-----------+----------+--------+\n",
            "|            0|       3141|     32422|    0.09|\n",
            "|            1|       1499|      4126|    0.27|\n",
            "+-------------+-----------+----------+--------+\n",
            "\n"
          ]
        }
      ]
    },
    {
      "cell_type": "markdown",
      "source": [
        "Good difference in the yes rate between the two groups, so we will keep this grouping"
      ],
      "metadata": {
        "id": "_HrXaHvM19Db"
      }
    },
    {
      "cell_type": "code",
      "source": [
        "# Drop original column\n",
        "df = df.drop('previous')"
      ],
      "metadata": {
        "id": "OvaclqzA1-lZ"
      },
      "execution_count": 18,
      "outputs": []
    },
    {
      "cell_type": "markdown",
      "source": [
        "Now that the numerical columns have been prepared, let's look at the categorical columns"
      ],
      "metadata": {
        "id": "WakopSCBcNyu"
      }
    },
    {
      "cell_type": "markdown",
      "source": [
        "## EDA - Categorical"
      ],
      "metadata": {
        "id": "uyvi74WrkEdk"
      }
    },
    {
      "cell_type": "markdown",
      "source": [
        "Check out groups & counts for each categorical variable"
      ],
      "metadata": {
        "id": "lLAsJSf--UEe"
      }
    },
    {
      "cell_type": "code",
      "source": [
        "# Check out counts of categorical variables\n",
        "df.groupBy(\"job\").count().orderBy(\"count\", ascending=False).show(truncate=False)\n",
        "df.groupBy(\"marital\").count().orderBy(\"count\", ascending=False).show(truncate=False)\n",
        "df.groupBy(\"education\").count().orderBy(\"count\", ascending=False).show(truncate=False)\n",
        "df.groupBy(\"default\").count().orderBy(\"count\", ascending=False).show(truncate=False)\n",
        "df.groupBy(\"housing\").count().orderBy(\"count\", ascending=False).show(truncate=False)\n",
        "df.groupBy(\"loan\").count().orderBy(\"count\", ascending=False).show(truncate=False)\n",
        "df.groupBy(\"contact\").count().orderBy(\"count\", ascending=False).show(truncate=False)\n",
        "df.groupBy(\"month\").count().orderBy(\"count\", ascending=False).show(truncate=False)\n",
        "df.groupBy(\"day_of_week\").count().orderBy(\"count\", ascending=False).show(truncate=False)\n",
        "df.groupBy(\"poutcome\").count().orderBy(\"count\", ascending=False).show(truncate=False)\n",
        "df.groupBy(\"y\").count().orderBy(\"count\", ascending=False).show(truncate=False)"
      ],
      "metadata": {
        "colab": {
          "base_uri": "https://localhost:8080/"
        },
        "id": "rZMhf47SOaec",
        "outputId": "e16c412e-2b63-453c-f655-0824e9f03501"
      },
      "execution_count": 19,
      "outputs": [
        {
          "output_type": "stream",
          "name": "stdout",
          "text": [
            "+-------------+-----+\n",
            "|job          |count|\n",
            "+-------------+-----+\n",
            "|admin.       |10422|\n",
            "|blue-collar  |9254 |\n",
            "|technician   |6743 |\n",
            "|services     |3969 |\n",
            "|management   |2924 |\n",
            "|retired      |1720 |\n",
            "|entrepreneur |1456 |\n",
            "|self-employed|1421 |\n",
            "|housemaid    |1060 |\n",
            "|unemployed   |1014 |\n",
            "|student      |875  |\n",
            "|unknown      |330  |\n",
            "+-------------+-----+\n",
            "\n",
            "+--------+-----+\n",
            "|marital |count|\n",
            "+--------+-----+\n",
            "|married |24928|\n",
            "|single  |11568|\n",
            "|divorced|4612 |\n",
            "|unknown |80   |\n",
            "+--------+-----+\n",
            "\n",
            "+-------------------+-----+\n",
            "|education          |count|\n",
            "+-------------------+-----+\n",
            "|university.degree  |12168|\n",
            "|high.school        |9515 |\n",
            "|basic.9y           |6045 |\n",
            "|professional.course|5243 |\n",
            "|basic.4y           |4176 |\n",
            "|basic.6y           |2292 |\n",
            "|unknown            |1731 |\n",
            "|illiterate         |18   |\n",
            "+-------------------+-----+\n",
            "\n",
            "+-------+-----+\n",
            "|default|count|\n",
            "+-------+-----+\n",
            "|no     |32588|\n",
            "|unknown|8597 |\n",
            "|yes    |3    |\n",
            "+-------+-----+\n",
            "\n",
            "+-------+-----+\n",
            "|housing|count|\n",
            "+-------+-----+\n",
            "|yes    |21576|\n",
            "|no     |18622|\n",
            "|unknown|990  |\n",
            "+-------+-----+\n",
            "\n",
            "+-------+-----+\n",
            "|loan   |count|\n",
            "+-------+-----+\n",
            "|no     |33950|\n",
            "|yes    |6248 |\n",
            "|unknown|990  |\n",
            "+-------+-----+\n",
            "\n",
            "+---------+-----+\n",
            "|contact  |count|\n",
            "+---------+-----+\n",
            "|cellular |26144|\n",
            "|telephone|15044|\n",
            "+---------+-----+\n",
            "\n",
            "+-----+-----+\n",
            "|month|count|\n",
            "+-----+-----+\n",
            "|may  |13769|\n",
            "|jul  |7174 |\n",
            "|aug  |6178 |\n",
            "|jun  |5318 |\n",
            "|nov  |4101 |\n",
            "|apr  |2632 |\n",
            "|oct  |718  |\n",
            "|sep  |570  |\n",
            "|mar  |546  |\n",
            "|dec  |182  |\n",
            "+-----+-----+\n",
            "\n",
            "+-----------+-----+\n",
            "|day_of_week|count|\n",
            "+-----------+-----+\n",
            "|thu        |8623 |\n",
            "|mon        |8514 |\n",
            "|wed        |8134 |\n",
            "|tue        |8090 |\n",
            "|fri        |7827 |\n",
            "+-----------+-----+\n",
            "\n",
            "+-----------+-----+\n",
            "|poutcome   |count|\n",
            "+-----------+-----+\n",
            "|nonexistent|35563|\n",
            "|failure    |4252 |\n",
            "|success    |1373 |\n",
            "+-----------+-----+\n",
            "\n",
            "+---+-----+\n",
            "|y  |count|\n",
            "+---+-----+\n",
            "|no |36548|\n",
            "|yes|4640 |\n",
            "+---+-----+\n",
            "\n"
          ]
        }
      ]
    },
    {
      "cell_type": "markdown",
      "source": [
        "Target Variable is unbalanced in the dataset so we will need to look at not just Accuracy for model evaluation metrics"
      ],
      "metadata": {
        "id": "_EEJkn9CIj2p"
      }
    },
    {
      "cell_type": "markdown",
      "source": [
        "## Bucket Certain Categorical Variables"
      ],
      "metadata": {
        "id": "gmiGeZrtj4z_"
      }
    },
    {
      "cell_type": "markdown",
      "source": [
        "Most categorical variables would probably not benefit from further groupings without further business knowledge\n",
        "\n",
        "However, **marital** and **education** and **month** may benefit from groupings so they will be grouped\n",
        "\n",
        "\n",
        "1. **Martial** - grouped by married and un-married (combining divorced and single)\n",
        "\n",
        "2. **Education** - College vs non-college\n",
        "\n",
        "3. **Month** - Summer months have higher counts so May, June, July, August will be grouped together"
      ],
      "metadata": {
        "id": "LEcviEPnPulv"
      }
    },
    {
      "cell_type": "markdown",
      "source": [
        "### Bucket *Marital*"
      ],
      "metadata": {
        "id": "vxBZpkumtvsX"
      }
    },
    {
      "cell_type": "markdown",
      "source": [
        "Calculate Yes Rate in each group to determine how to bucket"
      ],
      "metadata": {
        "id": "pjgH2rfB3TJV"
      }
    },
    {
      "cell_type": "code",
      "source": [
        "count_y_by_maritalGroup = df.groupBy('marital').agg(\n",
        "    F.sum(F.when(df['y'] == 'yes', 1).otherwise(0)).alias('count_y_yes'),\n",
        "    F.sum(F.when(df['y'] == 'no', 1).otherwise(0)).alias('count_y_no')\n",
        ")\n",
        "\n",
        "count_y_by_maritalGroup2 = count_y_by_maritalGroup.withColumn('ratio', count_y_by_maritalGroup['count_y_yes'] / (count_y_by_maritalGroup['count_y_yes'] + count_y_by_maritalGroup['count_y_no']))\n",
        "count_y_by_maritalGroup2 = count_y_by_maritalGroup2.withColumn('yes_rate', F.round(count_y_by_maritalGroup2['ratio'], 2))\n",
        "\n",
        "count_y_by_maritalGroup2.select('marital','count_y_yes','count_y_no','yes_rate').show()"
      ],
      "metadata": {
        "colab": {
          "base_uri": "https://localhost:8080/"
        },
        "id": "NlDMMTSr2NsD",
        "outputId": "c7b57252-9637-4a11-cc56-fc105e5e6c92"
      },
      "execution_count": 20,
      "outputs": [
        {
          "output_type": "stream",
          "name": "stdout",
          "text": [
            "+--------+-----------+----------+--------+\n",
            "| marital|count_y_yes|count_y_no|yes_rate|\n",
            "+--------+-----------+----------+--------+\n",
            "| unknown|         12|        68|    0.15|\n",
            "|divorced|        476|      4136|     0.1|\n",
            "| married|       2532|     22396|     0.1|\n",
            "|  single|       1620|      9948|    0.14|\n",
            "+--------+-----------+----------+--------+\n",
            "\n"
          ]
        }
      ]
    },
    {
      "cell_type": "markdown",
      "source": [
        "Based on the yes rate for each group, it seems *married* and *divorced* may be similar and *single* and *unknown* may be similar, so we will bucket accordingly to decrease cardinality"
      ],
      "metadata": {
        "id": "TAeqUcDR2zZZ"
      }
    },
    {
      "cell_type": "code",
      "source": [
        "# Define conditions for creating the new column\n",
        "conditions = [\n",
        "    (col(\"marital\") == \"married\", \"1\"),\n",
        "    (col(\"marital\") == \"divorced\", \"1\")\n",
        "]\n",
        "\n",
        "# Apply conditions using the 'when' function and create the new column 'marital_flag'\n",
        "df = df.withColumn(\"marital_flag\",\n",
        "                  when(conditions[0][0], conditions[0][1])\n",
        "                  .otherwise(\"0\"))"
      ],
      "metadata": {
        "id": "4wGgqeTOSidS"
      },
      "execution_count": 21,
      "outputs": []
    },
    {
      "cell_type": "code",
      "source": [
        "# Drop original column\n",
        "df = df.drop('marital')"
      ],
      "metadata": {
        "id": "5hPOscjn2bl5"
      },
      "execution_count": 22,
      "outputs": []
    },
    {
      "cell_type": "markdown",
      "source": [
        "### Bucket *education*"
      ],
      "metadata": {
        "id": "N89daxCqt1kx"
      }
    },
    {
      "cell_type": "markdown",
      "source": [
        "Calculate Yes Rate in each group to determine how to bucket"
      ],
      "metadata": {
        "id": "-9csBltL3Z_8"
      }
    },
    {
      "cell_type": "code",
      "source": [
        "count_y_by_educationGroup = df.groupBy('education').agg(\n",
        "    F.sum(F.when(df['y'] == 'yes', 1).otherwise(0)).alias('count_y_yes'),\n",
        "    F.sum(F.when(df['y'] == 'no', 1).otherwise(0)).alias('count_y_no')\n",
        ")\n",
        "\n",
        "count_y_by_educationGroup2 = count_y_by_educationGroup.withColumn('ratio', count_y_by_educationGroup['count_y_yes'] / (count_y_by_educationGroup['count_y_yes'] + count_y_by_educationGroup['count_y_no']))\n",
        "count_y_by_educationGroup2 = count_y_by_educationGroup2.withColumn('yes_rate', F.round(count_y_by_educationGroup2['ratio'], 2))\n",
        "\n",
        "count_y_by_educationGroup2.select('education','count_y_yes','count_y_no','yes_rate').show()"
      ],
      "metadata": {
        "colab": {
          "base_uri": "https://localhost:8080/"
        },
        "id": "xioTmMrX3cGW",
        "outputId": "a267f301-b19f-4378-b087-3c277a342ad8"
      },
      "execution_count": 23,
      "outputs": [
        {
          "output_type": "stream",
          "name": "stdout",
          "text": [
            "+-------------------+-----------+----------+--------+\n",
            "|          education|count_y_yes|count_y_no|yes_rate|\n",
            "+-------------------+-----------+----------+--------+\n",
            "|        high.school|       1031|      8484|    0.11|\n",
            "|            unknown|        251|      1480|    0.15|\n",
            "|           basic.6y|        188|      2104|    0.08|\n",
            "|professional.course|        595|      4648|    0.11|\n",
            "|  university.degree|       1670|     10498|    0.14|\n",
            "|         illiterate|          4|        14|    0.22|\n",
            "|           basic.4y|        428|      3748|     0.1|\n",
            "|           basic.9y|        473|      5572|    0.08|\n",
            "+-------------------+-----------+----------+--------+\n",
            "\n"
          ]
        }
      ]
    },
    {
      "cell_type": "markdown",
      "source": [
        "Based on yes rate, there seems to be separation into 2 groups\n",
        "\n",
        "\n",
        "1.   University Degree\n",
        "2.   Others\n",
        "\n",
        "So we will bucket accordingly"
      ],
      "metadata": {
        "id": "DpE1s4FQ3qBQ"
      }
    },
    {
      "cell_type": "code",
      "source": [
        "# Define conditions for creating the new column\n",
        "conditions = [\n",
        "    (col(\"education\") == \"university.degree\", \"1\")\n",
        "]\n",
        "\n",
        "# Apply conditions using the 'when' function and create the new column 'university_degree'\n",
        "df = df.withColumn(\"university_degree\",\n",
        "                  when(conditions[0][0], conditions[0][1])\n",
        "                  .otherwise(\"0\"))"
      ],
      "metadata": {
        "id": "aqgMvI_HSKGp"
      },
      "execution_count": 24,
      "outputs": []
    },
    {
      "cell_type": "code",
      "source": [
        "# Drop original education column\n",
        "df = df.drop('education')"
      ],
      "metadata": {
        "id": "71z_OawB3_wO"
      },
      "execution_count": 25,
      "outputs": []
    },
    {
      "cell_type": "markdown",
      "source": [
        "### Bucket *month*"
      ],
      "metadata": {
        "id": "OZ6JYQuVt601"
      }
    },
    {
      "cell_type": "markdown",
      "source": [
        "Calculate Yes Rate in each group to determine how to bucket"
      ],
      "metadata": {
        "id": "3-FviZs2-ecR"
      }
    },
    {
      "cell_type": "code",
      "source": [
        "count_y_by_monthGroup = df.groupBy('month').agg(\n",
        "    F.sum(F.when(df['y'] == 'yes', 1).otherwise(0)).alias('count_y_yes'),\n",
        "    F.sum(F.when(df['y'] == 'no', 1).otherwise(0)).alias('count_y_no')\n",
        ")\n",
        "\n",
        "count_y_by_monthGroup2 = count_y_by_monthGroup.withColumn('ratio', count_y_by_monthGroup['count_y_yes'] / (count_y_by_monthGroup['count_y_yes'] + count_y_by_monthGroup['count_y_no']))\n",
        "count_y_by_monthGroup2 = count_y_by_monthGroup2.withColumn('yes_rate', F.round(count_y_by_monthGroup2['ratio'], 2))\n",
        "\n",
        "count_y_by_monthGroup2.select('month','count_y_yes','count_y_no','yes_rate').show()"
      ],
      "metadata": {
        "colab": {
          "base_uri": "https://localhost:8080/"
        },
        "id": "X2SVHQgb4Lgu",
        "outputId": "72b13768-da12-4b2e-90be-0680f790deda"
      },
      "execution_count": 26,
      "outputs": [
        {
          "output_type": "stream",
          "name": "stdout",
          "text": [
            "+-----+-----------+----------+--------+\n",
            "|month|count_y_yes|count_y_no|yes_rate|\n",
            "+-----+-----------+----------+--------+\n",
            "|  jun|        559|      4759|    0.11|\n",
            "|  aug|        655|      5523|    0.11|\n",
            "|  may|        886|     12883|    0.06|\n",
            "|  sep|        256|       314|    0.45|\n",
            "|  mar|        276|       270|    0.51|\n",
            "|  oct|        315|       403|    0.44|\n",
            "|  jul|        649|      6525|    0.09|\n",
            "|  nov|        416|      3685|     0.1|\n",
            "|  apr|        539|      2093|     0.2|\n",
            "|  dec|         89|        93|    0.49|\n",
            "+-----+-----------+----------+--------+\n",
            "\n"
          ]
        }
      ]
    },
    {
      "cell_type": "markdown",
      "source": [
        "There seems to be separation between warmer and cooler months so we will bucket accordingly"
      ],
      "metadata": {
        "id": "K3Je37Dw4Y6K"
      }
    },
    {
      "cell_type": "code",
      "source": [
        "# Define conditions for creating the new column\n",
        "conditions = [\n",
        "    (col(\"month\") == \"may\", \"1\"),\n",
        "    ((col(\"month\") == \"june\"), \"1\"),\n",
        "    ((col(\"month\") == \"july\"), \"1\"),\n",
        "    ((col(\"month\") == \"august\"), \"1\")\n",
        "]\n",
        "\n",
        "# Apply conditions using the 'when' function and create the new column 'summer'\n",
        "df = df.withColumn(\"summer\",\n",
        "                  when(conditions[0][0], conditions[0][1])\n",
        "                  .when(conditions[1][0], conditions[1][1])\n",
        "                  .when(conditions[2][0], conditions[2][1])\n",
        "                  .when(conditions[3][0], conditions[3][1])\n",
        "                  .otherwise(\"0\"))"
      ],
      "metadata": {
        "id": "CAmuJ0sBQjr2"
      },
      "execution_count": 27,
      "outputs": []
    },
    {
      "cell_type": "code",
      "source": [
        "# Drop original column\n",
        "df = df.drop('month')"
      ],
      "metadata": {
        "id": "PCxsPois4gLP"
      },
      "execution_count": 28,
      "outputs": []
    },
    {
      "cell_type": "markdown",
      "source": [
        "### Prescriptive Recommendations\n",
        "\n",
        "Based on this analysis, we have seen a higher loan rate among\n",
        "\n",
        "\n",
        "*   Highly educated\n",
        "*   At least once married people\n",
        "*   In warmer months\n",
        "\n",
        "To capitalize on that, we should focus advertising on that demographic with targeted advertising in spring or early summer\n",
        "\n"
      ],
      "metadata": {
        "id": "EA0Qkna9PjnC"
      }
    },
    {
      "cell_type": "markdown",
      "source": [
        "## Encode Categorical Variables"
      ],
      "metadata": {
        "id": "aYRaEhOjjyC2"
      }
    },
    {
      "cell_type": "markdown",
      "source": [
        "Now that the groupings have been completed, it's time to convert the categorical columns to numeric so we can vector encode them"
      ],
      "metadata": {
        "id": "JOwn4rWKUjys"
      }
    },
    {
      "cell_type": "code",
      "source": [
        "df=StringIndexer(inputCol='job', outputCol='jobINDX').fit(df).transform(df)\n",
        "df=df.drop(\"job\")\n",
        "indexer = OneHotEncoder(inputCol=\"jobINDX\", outputCol=\"job\")\n",
        "df = indexer.fit(df).transform(df)\n",
        "df=df.drop(\"jobINDX\")"
      ],
      "metadata": {
        "id": "N4es4G_QWIyU"
      },
      "execution_count": 29,
      "outputs": []
    },
    {
      "cell_type": "code",
      "source": [
        "df=StringIndexer(inputCol='default', outputCol='defaultINDX').fit(df).transform(df)\n",
        "df=df.drop(\"default\")\n",
        "indexer = OneHotEncoder(inputCol=\"defaultINDX\", outputCol=\"default\")\n",
        "df = indexer.fit(df).transform(df)\n",
        "df=df.drop(\"defaultINDX\")"
      ],
      "metadata": {
        "id": "LKKe9uBgWIvg"
      },
      "execution_count": 30,
      "outputs": []
    },
    {
      "cell_type": "code",
      "source": [
        "df=StringIndexer(inputCol='housing', outputCol='housingINDX').fit(df).transform(df)\n",
        "df=df.drop(\"housing\")\n",
        "indexer = OneHotEncoder(inputCol=\"housingINDX\", outputCol=\"housing\")\n",
        "df = indexer.fit(df).transform(df)\n",
        "df=df.drop(\"housingINDX\")"
      ],
      "metadata": {
        "id": "Z-3VVriAWIsY"
      },
      "execution_count": 31,
      "outputs": []
    },
    {
      "cell_type": "code",
      "source": [
        "df=StringIndexer(inputCol='loan', outputCol='loanINDX').fit(df).transform(df)\n",
        "df=df.drop(\"loan\")\n",
        "indexer = OneHotEncoder(inputCol=\"loanINDX\", outputCol=\"loan\")\n",
        "df = indexer.fit(df).transform(df)\n",
        "df=df.drop(\"loanINDX\")"
      ],
      "metadata": {
        "id": "K92jVqNhWIpT"
      },
      "execution_count": 32,
      "outputs": []
    },
    {
      "cell_type": "code",
      "source": [
        "df=StringIndexer(inputCol='contact', outputCol='contactINDX').fit(df).transform(df)\n",
        "df=df.drop(\"contact\")\n",
        "indexer = OneHotEncoder(inputCol=\"contactINDX\", outputCol=\"contact\")\n",
        "df = indexer.fit(df).transform(df)\n",
        "df=df.drop(\"contactINDX\")"
      ],
      "metadata": {
        "id": "-iaIWi9GWIh9"
      },
      "execution_count": 33,
      "outputs": []
    },
    {
      "cell_type": "code",
      "source": [
        "df=StringIndexer(inputCol='day_of_week', outputCol='day_of_weekINDX').fit(df).transform(df)\n",
        "df=df.drop(\"day_of_week\")\n",
        "indexer = OneHotEncoder(inputCol=\"day_of_weekINDX\", outputCol=\"day_of_week\")\n",
        "df = indexer.fit(df).transform(df)\n",
        "df=df.drop(\"day_of_weekINDX\")"
      ],
      "metadata": {
        "id": "pQeuyfAnWIYp"
      },
      "execution_count": 34,
      "outputs": []
    },
    {
      "cell_type": "code",
      "source": [
        "df=StringIndexer(inputCol='poutcome', outputCol='poutcomeINDX').fit(df).transform(df)\n",
        "df=df.drop(\"poutcome\")\n",
        "indexer = OneHotEncoder(inputCol=\"poutcomeINDX\", outputCol=\"poutcome\")\n",
        "df = indexer.fit(df).transform(df)\n",
        "df=df.drop(\"poutcomeINDX\")"
      ],
      "metadata": {
        "id": "jJ7qJKcpWO6e"
      },
      "execution_count": 35,
      "outputs": []
    },
    {
      "cell_type": "markdown",
      "source": [
        "One Hot Encode Custom Grouped Numerical Columns"
      ],
      "metadata": {
        "id": "8losmh7WEh1S"
      }
    },
    {
      "cell_type": "code",
      "source": [
        "df=StringIndexer(inputCol='pdaysGroup', outputCol='pdaysGroupINDX').fit(df).transform(df)\n",
        "df=df.drop(\"pdaysGroup\")\n",
        "indexer = OneHotEncoder(inputCol=\"pdaysGroupINDX\", outputCol=\"pdaysGroup\")\n",
        "df = indexer.fit(df).transform(df)\n",
        "df=df.drop(\"pdaysGroupINDX\")"
      ],
      "metadata": {
        "id": "TJf6N0MFFHv1"
      },
      "execution_count": 36,
      "outputs": []
    },
    {
      "cell_type": "code",
      "source": [
        "df=StringIndexer(inputCol='euribor3mGroup', outputCol='euribor3mGroupINDX').fit(df).transform(df)\n",
        "df=df.drop(\"euribor3mGroup\")\n",
        "indexer = OneHotEncoder(inputCol=\"euribor3mGroupINDX\", outputCol=\"euribor3mGroup\")\n",
        "df = indexer.fit(df).transform(df)\n",
        "df=df.drop(\"euribor3mGroupINDX\")"
      ],
      "metadata": {
        "id": "hUNqer0SEaSn"
      },
      "execution_count": 37,
      "outputs": []
    },
    {
      "cell_type": "code",
      "source": [
        "df=StringIndexer(inputCol='previousGroup', outputCol='previousGroupINDX').fit(df).transform(df)\n",
        "df=df.drop(\"previousGroup\")\n",
        "indexer = OneHotEncoder(inputCol=\"previousGroupINDX\", outputCol=\"previousGroup\")\n",
        "df = indexer.fit(df).transform(df)\n",
        "df=df.drop(\"previousGroupINDX\")"
      ],
      "metadata": {
        "id": "62DTQaDIEaLg"
      },
      "execution_count": 38,
      "outputs": []
    },
    {
      "cell_type": "markdown",
      "source": [
        "One Hot Encode Custom Grouped Categorical Columns"
      ],
      "metadata": {
        "id": "7z9OVpHE1jp0"
      }
    },
    {
      "cell_type": "code",
      "source": [
        "df=StringIndexer(inputCol='marital_flag', outputCol='marital_flagINDX').fit(df).transform(df)\n",
        "df=df.drop(\"marital_flag\")\n",
        "indexer = OneHotEncoder(inputCol=\"marital_flagINDX\", outputCol=\"marital_flag\")\n",
        "df = indexer.fit(df).transform(df)\n",
        "df=df.drop(\"marital_flagINDX\")"
      ],
      "metadata": {
        "id": "4i-6zR1QEaIw"
      },
      "execution_count": 39,
      "outputs": []
    },
    {
      "cell_type": "code",
      "source": [
        "df=StringIndexer(inputCol='university_degree', outputCol='university_degreeINDX').fit(df).transform(df)\n",
        "df=df.drop(\"university_degree\")\n",
        "indexer = OneHotEncoder(inputCol=\"university_degreeINDX\", outputCol=\"university_degree\")\n",
        "df = indexer.fit(df).transform(df)\n",
        "df=df.drop(\"university_degreeINDX\")"
      ],
      "metadata": {
        "id": "DWjWssQ8EaFr"
      },
      "execution_count": 40,
      "outputs": []
    },
    {
      "cell_type": "code",
      "source": [
        "df=StringIndexer(inputCol='summer', outputCol='summerINDX').fit(df).transform(df)\n",
        "df=df.drop(\"summer\")\n",
        "indexer = OneHotEncoder(inputCol=\"summerINDX\", outputCol=\"summer\")\n",
        "df = indexer.fit(df).transform(df)\n",
        "df=df.drop(\"summerINDX\")"
      ],
      "metadata": {
        "id": "b0aeyRuuEaDK"
      },
      "execution_count": 41,
      "outputs": []
    },
    {
      "cell_type": "markdown",
      "source": [
        "Now Encode the Target Column"
      ],
      "metadata": {
        "id": "9mOsDxidbQEu"
      }
    },
    {
      "cell_type": "code",
      "source": [
        "df=StringIndexer(inputCol='y', outputCol='yINDX').fit(df).transform(df)\n",
        "df=df.drop(\"y\")\n",
        "indexer = OneHotEncoder(inputCol=\"yINDX\", outputCol=\"Target\")\n",
        "df = indexer.fit(df).transform(df)"
      ],
      "metadata": {
        "id": "7GG0_VTMUh6A"
      },
      "execution_count": 42,
      "outputs": []
    },
    {
      "cell_type": "markdown",
      "source": [
        "## Standard Scaler for Numeric Columns"
      ],
      "metadata": {
        "id": "Sfxf_V8sbtwA"
      }
    },
    {
      "cell_type": "code",
      "source": [
        "df1=VectorAssembler(inputCols=[\"age\"], outputCol=\"ageVEC\").transform(df)\n",
        "df1=df1.drop(\"age\")\n",
        "indexer = StandardScaler(inputCol=\"ageVEC\", outputCol=\"age\")\n",
        "df1=indexer.fit(df1).transform(df1)\n",
        "df1=df1.drop(\"ageVEC\")"
      ],
      "metadata": {
        "id": "XRV7ar918ZJr"
      },
      "execution_count": 43,
      "outputs": []
    },
    {
      "cell_type": "code",
      "source": [
        "df1=VectorAssembler(inputCols=[\"duration\"], outputCol=\"durationVEC\").transform(df)\n",
        "df1=df1.drop(\"duration\")\n",
        "indexer = StandardScaler(inputCol=\"durationVEC\", outputCol=\"duration\")\n",
        "df1=indexer.fit(df1).transform(df1)\n",
        "df1=df1.drop(\"durationVEC\")"
      ],
      "metadata": {
        "id": "pDGwIMZd9teF"
      },
      "execution_count": 44,
      "outputs": []
    },
    {
      "cell_type": "code",
      "source": [
        "df1=VectorAssembler(inputCols=[\"campaign\"], outputCol=\"campaignVEC\").transform(df)\n",
        "df1=df1.drop(\"campaign\")\n",
        "indexer = StandardScaler(inputCol=\"campaignVEC\", outputCol=\"campaign\")\n",
        "df1=indexer.fit(df1).transform(df1)\n",
        "df1=df1.drop(\"campaignVEC\")"
      ],
      "metadata": {
        "id": "VzxX_RLE9tYB"
      },
      "execution_count": 45,
      "outputs": []
    },
    {
      "cell_type": "code",
      "source": [
        "df1=VectorAssembler(inputCols=[\"emp_var_rate\"], outputCol=\"emp_var_rateVEC\").transform(df)\n",
        "df1=df1.drop(\"emp_var_rate\")\n",
        "indexer = StandardScaler(inputCol=\"emp_var_rateVEC\", outputCol=\"emp_var_rate\")\n",
        "df1=indexer.fit(df1).transform(df1)\n",
        "df1=df1.drop(\"emp_var_rateVEC\")"
      ],
      "metadata": {
        "id": "rA3nhnm89tLz"
      },
      "execution_count": 46,
      "outputs": []
    },
    {
      "cell_type": "code",
      "source": [
        "df1=VectorAssembler(inputCols=[\"cons_price_idx\"], outputCol=\"cons_price_idxVEC\").transform(df)\n",
        "df1=df1.drop(\"cons_price_idx\")\n",
        "indexer = StandardScaler(inputCol=\"cons_price_idxVEC\", outputCol=\"cons_price_idx\")\n",
        "df1=indexer.fit(df1).transform(df1)\n",
        "df1=df1.drop(\"cons_price_idxVEC\")"
      ],
      "metadata": {
        "id": "Y1uAwTga9tFk"
      },
      "execution_count": 47,
      "outputs": []
    },
    {
      "cell_type": "code",
      "source": [
        "df1=VectorAssembler(inputCols=[\"cons_conf_idx\"], outputCol=\"cons_conf_idxVEC\").transform(df)\n",
        "df1=df1.drop(\"cons_conf_idx\")\n",
        "indexer = StandardScaler(inputCol=\"cons_conf_idxVEC\", outputCol=\"cons_conf_idx\")\n",
        "df1=indexer.fit(df1).transform(df1)\n",
        "df1=df1.drop(\"cons_conf_idxVEC\")"
      ],
      "metadata": {
        "id": "LtjxAc5A9s70"
      },
      "execution_count": 48,
      "outputs": []
    },
    {
      "cell_type": "code",
      "source": [
        "df1=VectorAssembler(inputCols=[\"nr_employed\"], outputCol=\"nr_employedVEC\").transform(df)\n",
        "df1=df1.drop(\"nr_employed\")\n",
        "indexer = StandardScaler(inputCol=\"nr_employedVEC\", outputCol=\"nr_employed\")\n",
        "df1=indexer.fit(df1).transform(df1)\n",
        "df1=df1.drop(\"nr_employedVEC\")"
      ],
      "metadata": {
        "id": "xAQc4aAB9spl"
      },
      "execution_count": 49,
      "outputs": []
    },
    {
      "cell_type": "markdown",
      "source": [
        "## K Means"
      ],
      "metadata": {
        "id": "3Otl8-0DjnaD"
      }
    },
    {
      "cell_type": "markdown",
      "source": [
        "Run Vector Assembler so that we can run K Means"
      ],
      "metadata": {
        "id": "VX7irfgA-1Qx"
      }
    },
    {
      "cell_type": "code",
      "source": [
        "predictor_cols = [col for col in df.columns if col != 'Target' and col != 'yINDX']\n",
        "assembler = VectorAssembler(inputCols=predictor_cols, outputCol=\"features\")\n",
        "df=assembler.transform(df)"
      ],
      "metadata": {
        "id": "VJg_-F5aZUQv"
      },
      "execution_count": 50,
      "outputs": []
    },
    {
      "cell_type": "markdown",
      "source": [
        "Run K Means Algorithm and append cluster # as ***k_cluster***"
      ],
      "metadata": {
        "id": "yTwHQild-w7c"
      }
    },
    {
      "cell_type": "code",
      "source": [
        "KMeans_algo=KMeans(featuresCol='features', k=4)\n",
        "KMeans_fit=KMeans_algo.fit(df)\n",
        "df=KMeans_fit.transform(df)"
      ],
      "metadata": {
        "id": "sZnAbO8q2r3G"
      },
      "execution_count": 51,
      "outputs": []
    },
    {
      "cell_type": "code",
      "source": [
        "df = df.withColumnRenamed('prediction', 'k_cluster')"
      ],
      "metadata": {
        "id": "iP77fl6B3JVC"
      },
      "execution_count": 52,
      "outputs": []
    },
    {
      "cell_type": "markdown",
      "source": [
        "## Supervised Modeling Preparation"
      ],
      "metadata": {
        "id": "UBWWZpygqADa"
      }
    },
    {
      "cell_type": "markdown",
      "source": [
        "### Vector Assembler - Including K Means Clusters"
      ],
      "metadata": {
        "id": "fKaFHp6A2wUD"
      }
    },
    {
      "cell_type": "markdown",
      "source": [
        "Drop ***features*** column used for k-means, because I need to re-create it including the ***k_cluster***"
      ],
      "metadata": {
        "id": "BN2oYtMd_jHu"
      }
    },
    {
      "cell_type": "code",
      "source": [
        "df = df.drop('features')"
      ],
      "metadata": {
        "id": "rGkHFUcf4Iy-"
      },
      "execution_count": 53,
      "outputs": []
    },
    {
      "cell_type": "markdown",
      "source": [
        "Run Vector Assembler"
      ],
      "metadata": {
        "id": "6uMD1mDH_s9z"
      }
    },
    {
      "cell_type": "code",
      "source": [
        "predictor_cols = [col for col in df.columns if col != 'Target' and col != 'yINDX']\n",
        "assembler = VectorAssembler(inputCols=predictor_cols, outputCol=\"features\")\n",
        "df=assembler.transform(df)"
      ],
      "metadata": {
        "id": "6MYUW4O72w4t"
      },
      "execution_count": 54,
      "outputs": []
    },
    {
      "cell_type": "markdown",
      "source": [
        "### Split Train and Test"
      ],
      "metadata": {
        "id": "gglcwPHAjeJt"
      }
    },
    {
      "cell_type": "code",
      "source": [
        "finalised_data = df.select('features', 'yINDX')\n",
        "train, test = finalised_data.randomSplit([0.7, 0.3])"
      ],
      "metadata": {
        "id": "H1ojwLaTGCGh"
      },
      "execution_count": 55,
      "outputs": []
    },
    {
      "cell_type": "markdown",
      "source": [
        "## Supervised Models"
      ],
      "metadata": {
        "id": "G-0CIgBo_SZn"
      }
    },
    {
      "cell_type": "markdown",
      "source": [
        "### Model #1 Logistic Regression"
      ],
      "metadata": {
        "id": "IhBUxCSEksvF"
      }
    },
    {
      "cell_type": "code",
      "source": [
        "# Train Logistic Regression\n",
        "lr = LogisticRegression(labelCol=\"yINDX\")\n",
        "lrn = lr.fit(train)"
      ],
      "metadata": {
        "id": "Z0kY3e3AHhpo"
      },
      "execution_count": 56,
      "outputs": []
    },
    {
      "cell_type": "code",
      "source": [
        "# Get Predictions and AUC Score\n",
        "lrn.summary.predictions\n",
        "eval = BinaryClassificationEvaluator(rawPredictionCol = \"prediction\", labelCol = \"yINDX\")\n",
        "auc = eval.evaluate(lrn.summary.predictions)\n",
        "print(\"AUC : \", auc)"
      ],
      "metadata": {
        "colab": {
          "base_uri": "https://localhost:8080/"
        },
        "id": "rvf29pIRIzew",
        "outputId": "ceccba89-9edf-4703-900c-be7ffd54165f"
      },
      "execution_count": 57,
      "outputs": [
        {
          "output_type": "stream",
          "name": "stdout",
          "text": [
            "AUC :  0.7055466327561992\n"
          ]
        }
      ]
    },
    {
      "cell_type": "code",
      "source": [
        "# Get Accuracy\n",
        "predictions = lrn.transform(test)\n",
        "accuracy = predictions.filter(predictions.yINDX == predictions.prediction).count() / float(predictions.count())\n",
        "print(\"Accuracy : \",accuracy)"
      ],
      "metadata": {
        "colab": {
          "base_uri": "https://localhost:8080/"
        },
        "id": "XB5QhzznKU0O",
        "outputId": "15a04df1-42ec-4bf7-82ea-5b0ca524d133"
      },
      "execution_count": 58,
      "outputs": [
        {
          "output_type": "stream",
          "name": "stdout",
          "text": [
            "Accuracy :  0.9090315737945663\n"
          ]
        }
      ]
    },
    {
      "cell_type": "markdown",
      "source": [
        "We recall that we have un-balanced data so AUC will be used for model comparison, not Accuracy"
      ],
      "metadata": {
        "id": "b2SUu4sroQ5H"
      }
    },
    {
      "cell_type": "markdown",
      "source": [
        "We also recall that we have multi-collinearity, so if we decided to go with this model it would not be great for explanation without doing some feature selection to address multi-collinearity\n",
        "\n",
        "For now we will carry on with building other models and compare their scores before going through that because it may not be necessary if the score from Logistic Regression is not high enough"
      ],
      "metadata": {
        "id": "s904mdvI_zXw"
      }
    },
    {
      "cell_type": "markdown",
      "source": [
        "### Model #2 Random Forest"
      ],
      "metadata": {
        "id": "pPMRxBd1lqII"
      }
    },
    {
      "cell_type": "code",
      "source": [
        "# Define RandomForestClassifier\n",
        "rf = RandomForestClassifier(featuresCol=\"features\", labelCol=\"yINDX\")\n",
        "\n",
        "# Define the parameter grid\n",
        "paramGrid = (ParamGridBuilder()\n",
        "             .addGrid(rf.numTrees, [10, 20, 30])\n",
        "             .addGrid(rf.maxDepth, [5, 10, 15])\n",
        "             .build())\n",
        "\n",
        "# Define an evaluator\n",
        "evaluator = BinaryClassificationEvaluator(rawPredictionCol = \"prediction\", labelCol = \"yINDX\")\n",
        "\n",
        "# Set up CrossValidator\n",
        "cv = CrossValidator(estimator=rf, estimatorParamMaps=paramGrid, evaluator=evaluator, numFolds=3)\n",
        "\n",
        "# Run cross-validation, fit model\n",
        "cvModel = cv.fit(train)\n",
        "\n",
        "# Get the best model from the cross-validation\n",
        "rf_model = cvModel.bestModel\n",
        "\n",
        "rf_predictions = rf_model.transform(test)"
      ],
      "metadata": {
        "id": "P3GnIfn8lssp"
      },
      "execution_count": 59,
      "outputs": []
    },
    {
      "cell_type": "code",
      "source": [
        "# Get AUC Score\n",
        "auc = eval.evaluate(rf_model.summary.predictions)\n",
        "print(\"AUC : \", auc)"
      ],
      "metadata": {
        "colab": {
          "base_uri": "https://localhost:8080/"
        },
        "id": "_EAG-DJXl7m_",
        "outputId": "43c701a5-c354-45cd-c276-d030501250d6"
      },
      "execution_count": 60,
      "outputs": [
        {
          "output_type": "stream",
          "name": "stdout",
          "text": [
            "AUC :  0.8941638038169006\n"
          ]
        }
      ]
    },
    {
      "cell_type": "markdown",
      "source": [
        "### Model #3 Gradient Boosted Trees"
      ],
      "metadata": {
        "id": "IYi0jn96nBWz"
      }
    },
    {
      "cell_type": "markdown",
      "source": [
        "***Note:*** Below code to train GBT takes about 1 hour to run"
      ],
      "metadata": {
        "id": "cJInRWlXRsFP"
      }
    },
    {
      "cell_type": "code",
      "source": [
        "gbt = GBTClassifier(featuresCol='features', labelCol='yINDX')\n",
        "\n",
        "# Define the parameter grid\n",
        "paramGrid = (ParamGridBuilder()\n",
        "             .addGrid(gbt.maxDepth, [5, 10, 15])\n",
        "             .addGrid(gbt.maxIter, [10, 20, 30])\n",
        "             .addGrid(gbt.stepSize, [0.1, 0.01])\n",
        "             .build())\n",
        "\n",
        "# Define an evaluator\n",
        "evaluator = BinaryClassificationEvaluator(rawPredictionCol = \"prediction\", labelCol = \"yINDX\")\n",
        "\n",
        "# Set up CrossValidator\n",
        "cv = CrossValidator(estimator=gbt, estimatorParamMaps=paramGrid, evaluator=evaluator, numFolds=3)\n",
        "\n",
        "# Run cross-validation, fit model\n",
        "cvModel = cv.fit(train)\n",
        "\n",
        "# Get the best model from the cross-validation\n",
        "gbt_model = cvModel.bestModel\n",
        "\n",
        "# Get Predictions\n",
        "gbt_predictions = gbt_model.transform(test)"
      ],
      "metadata": {
        "id": "C3VOQn-zBvzz"
      },
      "execution_count": 61,
      "outputs": []
    },
    {
      "cell_type": "code",
      "source": [
        "# Get AUC Score\n",
        "auc = eval.evaluate(gbt_predictions)\n",
        "print(\"AUC : \", auc)"
      ],
      "metadata": {
        "colab": {
          "base_uri": "https://localhost:8080/"
        },
        "id": "fVZXCxoKnHqR",
        "outputId": "5dc39aec-4335-4957-e57a-df9cf562782d"
      },
      "execution_count": 62,
      "outputs": [
        {
          "output_type": "stream",
          "name": "stdout",
          "text": [
            "AUC :  0.7301287051482059\n"
          ]
        }
      ]
    },
    {
      "cell_type": "markdown",
      "source": [
        "### Model #4 Support Vector Machines"
      ],
      "metadata": {
        "id": "VCaPzb6Onc60"
      }
    },
    {
      "cell_type": "code",
      "source": [
        "svm = LinearSVC(featuresCol='features', labelCol='yINDX')\n",
        "\n",
        "# Define the parameter grid\n",
        "paramGrid = (ParamGridBuilder()\n",
        "             .addGrid(svm.maxIter, [10, 20, 30])\n",
        "             .addGrid(svm.regParam, [0.1, 0.01])\n",
        "             .build())\n",
        "\n",
        "# Define an evaluator\n",
        "evaluator = BinaryClassificationEvaluator(rawPredictionCol = \"prediction\", labelCol = \"yINDX\")\n",
        "\n",
        "# Set up CrossValidator\n",
        "cv = CrossValidator(estimator=svm, estimatorParamMaps=paramGrid, evaluator=evaluator, numFolds=3)\n",
        "\n",
        "# Run cross-validation, fit model\n",
        "cvModel = cv.fit(train)\n",
        "\n",
        "# Get the best model from the cross-validation\n",
        "svm_model = cvModel.bestModel\n",
        "\n",
        "# Get Predictions\n",
        "svm_predictions = svm_model.transform(test)"
      ],
      "metadata": {
        "id": "lqyINT_ODKwo"
      },
      "execution_count": 63,
      "outputs": []
    },
    {
      "cell_type": "code",
      "source": [
        "# Get AUC Score\n",
        "auc = eval.evaluate(svm_predictions)\n",
        "print(\"AUC : \", auc)"
      ],
      "metadata": {
        "colab": {
          "base_uri": "https://localhost:8080/"
        },
        "id": "LKVQ5KmTnhv6",
        "outputId": "153f695c-9eca-4771-cccb-ed491b097f62"
      },
      "execution_count": 64,
      "outputs": [
        {
          "output_type": "stream",
          "name": "stdout",
          "text": [
            "AUC :  0.6530937413967146\n"
          ]
        }
      ]
    },
    {
      "cell_type": "markdown",
      "source": [
        "### Model #5 Decision Tree"
      ],
      "metadata": {
        "id": "u7jNBsh6ns0b"
      }
    },
    {
      "cell_type": "markdown",
      "source": [
        "Also trying decision tree for its superior explanability/interpretability compared to the other models"
      ],
      "metadata": {
        "id": "w-cRyCSPBdj7"
      }
    },
    {
      "cell_type": "code",
      "source": [
        "dt = DecisionTreeClassifier(featuresCol='features', labelCol='yINDX')\n",
        "\n",
        "# Define the parameter grid\n",
        "paramGrid = (ParamGridBuilder()\n",
        "             .addGrid(dt.maxDepth, [5, 10, 15])\n",
        "             .addGrid(dt.maxBins, [20, 30, 40])\n",
        "             .build())\n",
        "\n",
        "# Define an evaluator\n",
        "evaluator = BinaryClassificationEvaluator(rawPredictionCol = \"prediction\", labelCol = \"yINDX\")\n",
        "\n",
        "# Set up CrossValidator\n",
        "cv = CrossValidator(estimator=dt, estimatorParamMaps=paramGrid, evaluator=evaluator, numFolds=3)\n",
        "\n",
        "# Run cross-validation, fit model\n",
        "cvModel = cv.fit(train)\n",
        "\n",
        "# Get the best model from the cross-validation\n",
        "dt_model = cvModel.bestModel\n",
        "\n",
        "# Get Predictions\n",
        "dt_predictions = dt_model.transform(test)"
      ],
      "metadata": {
        "id": "A-sL9q5DDVzW"
      },
      "execution_count": 65,
      "outputs": []
    },
    {
      "cell_type": "code",
      "source": [
        "# Get AUC Score\n",
        "auc = eval.evaluate(dt_predictions)\n",
        "print(\"AUC : \", auc)"
      ],
      "metadata": {
        "colab": {
          "base_uri": "https://localhost:8080/"
        },
        "id": "QtggfXcGn253",
        "outputId": "2db1bb35-72b7-4cf2-cdf3-601bb92adf15"
      },
      "execution_count": 66,
      "outputs": [
        {
          "output_type": "stream",
          "name": "stdout",
          "text": [
            "AUC :  0.7439702441038819\n"
          ]
        }
      ]
    },
    {
      "cell_type": "markdown",
      "source": [
        "## Model Discussion"
      ],
      "metadata": {
        "id": "WkdeZFdVqDo0"
      }
    },
    {
      "cell_type": "markdown",
      "source": [
        "The highest performing supervised model under a few different random seeds was Random Forest with average 90% AUC.\n",
        "\n",
        "The second best was Decision Tree with around 73% on average.\n",
        "\n",
        "Random Forest will be chosen as the champion because of the large improvement in the evaluation metric between it and the other models."
      ],
      "metadata": {
        "id": "IJ8zuJbFo2Pw"
      }
    },
    {
      "cell_type": "markdown",
      "source": [
        "## Save Champion Model"
      ],
      "metadata": {
        "id": "LY13N91iTao5"
      }
    },
    {
      "cell_type": "code",
      "source": [
        "rf_model.save(\"champ_model\")\n",
        "rf_model.save(\"/path/champ_model\")\n",
        "#pipelineModel = rf_model.load(\"/path\")\n",
        "#df_with_predictions = pipelineModel.transform(df)"
      ],
      "metadata": {
        "id": "MEla5wwZS_X7"
      },
      "execution_count": 67,
      "outputs": []
    },
    {
      "cell_type": "code",
      "source": [
        "#from google.colab import files\n",
        "#files.download(\"/content/champ_model\")"
      ],
      "metadata": {
        "colab": {
          "base_uri": "https://localhost:8080/",
          "height": 34
        },
        "id": "B2-C5DYQQRMy",
        "outputId": "4b1bb05a-5524-44a4-d5f1-b058d5fce291"
      },
      "execution_count": 68,
      "outputs": [
        {
          "output_type": "display_data",
          "data": {
            "text/plain": [
              "<IPython.core.display.Javascript object>"
            ],
            "application/javascript": [
              "\n",
              "    async function download(id, filename, size) {\n",
              "      if (!google.colab.kernel.accessAllowed) {\n",
              "        return;\n",
              "      }\n",
              "      const div = document.createElement('div');\n",
              "      const label = document.createElement('label');\n",
              "      label.textContent = `Downloading \"${filename}\": `;\n",
              "      div.appendChild(label);\n",
              "      const progress = document.createElement('progress');\n",
              "      progress.max = size;\n",
              "      div.appendChild(progress);\n",
              "      document.body.appendChild(div);\n",
              "\n",
              "      const buffers = [];\n",
              "      let downloaded = 0;\n",
              "\n",
              "      const channel = await google.colab.kernel.comms.open(id);\n",
              "      // Send a message to notify the kernel that we're ready.\n",
              "      channel.send({})\n",
              "\n",
              "      for await (const message of channel.messages) {\n",
              "        // Send a message to notify the kernel that we're ready.\n",
              "        channel.send({})\n",
              "        if (message.buffers) {\n",
              "          for (const buffer of message.buffers) {\n",
              "            buffers.push(buffer);\n",
              "            downloaded += buffer.byteLength;\n",
              "            progress.value = downloaded;\n",
              "          }\n",
              "        }\n",
              "      }\n",
              "      const blob = new Blob(buffers, {type: 'application/binary'});\n",
              "      const a = document.createElement('a');\n",
              "      a.href = window.URL.createObjectURL(blob);\n",
              "      a.download = filename;\n",
              "      div.appendChild(a);\n",
              "      a.click();\n",
              "      div.remove();\n",
              "    }\n",
              "  "
            ]
          },
          "metadata": {}
        },
        {
          "output_type": "display_data",
          "data": {
            "text/plain": [
              "<IPython.core.display.Javascript object>"
            ],
            "application/javascript": [
              "download(\"download_c4e4121d-2bda-4861-90ac-ce7b794a4662\", \"champ_model\", 4096)"
            ]
          },
          "metadata": {}
        }
      ]
    }
  ]
}